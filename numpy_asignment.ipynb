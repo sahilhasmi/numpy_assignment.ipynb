{
  "cells": [
    {
      "cell_type": "markdown",
      "metadata": {
        "id": "view-in-github",
        "colab_type": "text"
      },
      "source": [
        "<a href=\"https://colab.research.google.com/github/sahilhasmi/numpy_assignment.ipynb/blob/main/numpy_asignment.ipynb\" target=\"_parent\"><img src=\"https://colab.research.google.com/assets/colab-badge.svg\" alt=\"Open In Colab\"/></a>"
      ]
    },
    {
      "cell_type": "code",
      "execution_count": null,
      "metadata": {
        "colab": {
          "base_uri": "https://localhost:8080/"
        },
        "id": "jxvYykCdQjkW",
        "outputId": "b17dba47-f07e-4cd7-f338-65f03b727499"
      },
      "outputs": [
        {
          "data": {
            "text/plain": [
              "array([1, 2, 3, 4, 5, 6])"
            ]
          },
          "execution_count": 1,
          "metadata": {},
          "output_type": "execute_result"
        }
      ],
      "source": [
        "## Create a NumPy array 'arr' of integers from 0 to 5 and print its data type.\n",
        "import numpy as np\n",
        "\n",
        "arr = np.array([1,2,3,4,5,6])\n",
        "arr"
      ]
    },
    {
      "cell_type": "code",
      "execution_count": null,
      "metadata": {
        "colab": {
          "base_uri": "https://localhost:8080/"
        },
        "id": "zg0a4YX5QyGT",
        "outputId": "97549747-46fc-4e99-a12a-2e63a382e722"
      },
      "outputs": [
        {
          "name": "stdout",
          "output_type": "stream",
          "text": [
            "float64\n"
          ]
        }
      ],
      "source": [
        "## Given a NumPy array 'arr', check if its data type is float64.\n",
        "\n",
        "   # arr = np.array([1.5,2.6,3.7])\n",
        "\n",
        "arr = np.array([1.5,2.6,3.7])\n",
        "print(arr.dtype)"
      ]
    },
    {
      "cell_type": "code",
      "execution_count": null,
      "metadata": {
        "colab": {
          "base_uri": "https://localhost:8080/"
        },
        "id": "hpCBZRFqQyCQ",
        "outputId": "2521e82e-27d4-4bbb-dfd7-b2356af09b8b"
      },
      "outputs": [
        {
          "name": "stdout",
          "output_type": "stream",
          "text": [
            "complex128\n"
          ]
        }
      ],
      "source": [
        "## Create a NumPy array 'arr' with a data type of complex128 containing three complex numbers.\n",
        "\n",
        "arr = np.array([1+5j,2+3j ,4+22j])\n",
        "print(arr.dtype)"
      ]
    },
    {
      "cell_type": "code",
      "execution_count": null,
      "metadata": {
        "colab": {
          "base_uri": "https://localhost:8080/"
        },
        "id": "ZYAwrJ2dQx_o",
        "outputId": "99debdad-718d-44b4-e512-b35b0d8ae9b7"
      },
      "outputs": [
        {
          "data": {
            "text/plain": [
              "array([1., 2., 3., 4., 5., 6.], dtype=float32)"
            ]
          },
          "execution_count": 4,
          "metadata": {},
          "output_type": "execute_result"
        }
      ],
      "source": [
        "## Convert an existing NumPy array 'arr' of integers to float32 data type.\n",
        "arr = np.array([1,2,3,4,5,6],dtype = np.float32)\n",
        "arr\n"
      ]
    },
    {
      "cell_type": "code",
      "execution_count": null,
      "metadata": {
        "colab": {
          "base_uri": "https://localhost:8080/"
        },
        "id": "av1zymFFQx8n",
        "outputId": "239473d2-a627-41b8-cdfb-1dceb15a44fc"
      },
      "outputs": [
        {
          "name": "stdout",
          "output_type": "stream",
          "text": [
            "float32\n"
          ]
        }
      ],
      "source": [
        "## Given a NumPy array 'arr' with float64 data type, convert it to float32 to reduce decimal precision.\n",
        "\n",
        "arr = np.array([1.5,2.6,3.7,3.6,3.0] ,dtype = np.float32)\n",
        "print(arr.dtype)"
      ]
    },
    {
      "cell_type": "code",
      "execution_count": null,
      "metadata": {
        "colab": {
          "base_uri": "https://localhost:8080/"
        },
        "id": "Z3SGihUQQx58",
        "outputId": "52d4a02a-a6d8-4847-8b7a-7213d80e1201"
      },
      "outputs": [
        {
          "name": "stdout",
          "output_type": "stream",
          "text": [
            "enter the array([1,2,3,4,5],[9,8,7,6,4])\n",
            "(2, 5)\n",
            "10\n",
            "int64\n"
          ]
        }
      ],
      "source": [
        "# Write a function array_attributes that takes a NumPy array as input and returns its shape, size, and data type.\n",
        "\n",
        "\n",
        "def  array_attributes():\n",
        "  arr = eval(input(\"enter the array\"))\n",
        "  arr = np.array(arr)\n",
        "  print(arr.shape)\n",
        "  print(arr.size)\n",
        "  print(arr.dtype)\n",
        "\n",
        "array_attributes()\n"
      ]
    },
    {
      "cell_type": "code",
      "execution_count": null,
      "metadata": {
        "colab": {
          "base_uri": "https://localhost:8080/"
        },
        "id": "CGZLPVopQxsp",
        "outputId": "41dccbb5-def6-49bb-898f-4f5b4a5262fe"
      },
      "outputs": [
        {
          "name": "stdout",
          "output_type": "stream",
          "text": [
            "enter the array([1,2,3,4,5],[9,8,7,6,4])\n",
            "2\n"
          ]
        }
      ],
      "source": [
        "## Create a function array_dimension that takes a NumPy array as input and returns its dimensionality.\n",
        "def  array_dimension():\n",
        "  arr = eval(input(\"enter the array\"))\n",
        "  arr = np.array(arr)\n",
        "  print(arr.ndim)\n",
        "\n",
        "array_dimension()\n"
      ]
    },
    {
      "cell_type": "code",
      "execution_count": null,
      "metadata": {
        "colab": {
          "base_uri": "https://localhost:8080/"
        },
        "id": "zm5sU5bhQxpl",
        "outputId": "f409e081-445a-43ff-b89d-16e1b85d952c"
      },
      "outputs": [
        {
          "name": "stdout",
          "output_type": "stream",
          "text": [
            "enter the array([1,2,3,4,5],[9,8,7,6,4])\n",
            "8\n",
            "80\n"
          ]
        }
      ],
      "source": [
        "## Design a function item_size_info that takes a NumPy array as input and returns the item size and the total size in bytes.\n",
        "\n",
        "def  item_size_info():\n",
        "  arr = eval(input(\"enter the array\"))\n",
        "  arr = np.array(arr)\n",
        "  print(arr.itemsize)\n",
        "  print(arr.nbytes)\n",
        "\n",
        "item_size_info()"
      ]
    },
    {
      "cell_type": "code",
      "execution_count": null,
      "metadata": {
        "colab": {
          "base_uri": "https://localhost:8080/"
        },
        "id": "rTJfxQeJQxk5",
        "outputId": "8ea2f118-9000-4668-a7cb-273fe0aec9d0"
      },
      "outputs": [
        {
          "name": "stdout",
          "output_type": "stream",
          "text": [
            "enter the array([1,2,3,4,5],[9,8,7,6,4])\n",
            "(40, 8)\n"
          ]
        }
      ],
      "source": [
        "## Create a function array_strides that takes a NumPy array as input and returns the strides of the array.\n",
        "def array_strides():\n",
        "  arr = eval(input(\"enter the array\"))\n",
        "  arr = np.array(arr)\n",
        "  print(arr.strides)\n",
        "\n",
        "\n",
        "array_strides()"
      ]
    },
    {
      "cell_type": "code",
      "execution_count": null,
      "metadata": {
        "colab": {
          "base_uri": "https://localhost:8080/"
        },
        "id": "4ypdDb8TQxhB",
        "outputId": "4eaee1be-5e53-4bc8-8730-ed4fcce66bc7"
      },
      "outputs": [
        {
          "name": "stdout",
          "output_type": "stream",
          "text": [
            "enter the array([1,2,3,4,5],[9,8,7,6,4])\n",
            "(40, 8)\n",
            "(2, 5)\n"
          ]
        }
      ],
      "source": [
        "## Design a function shape_stride_relationship that takes a NumPy array as input and returns the shape and strides of the array.\n",
        "\n",
        "def shape_stride_relationship():\n",
        "  arr = eval(input(\"enter the array\"))\n",
        "  arr = np.array(arr)\n",
        "  print(arr.strides)\n",
        "  print(arr.shape)\n",
        "\n",
        "shape_stride_relationship()"
      ]
    },
    {
      "cell_type": "code",
      "execution_count": null,
      "metadata": {
        "colab": {
          "base_uri": "https://localhost:8080/"
        },
        "id": "zAYhr-SSQxc-",
        "outputId": "eafcd69b-4543-4a6c-906b-4de5e9cd33ef"
      },
      "outputs": [
        {
          "name": "stdout",
          "output_type": "stream",
          "text": [
            "enter the element of n:5\n",
            "[0 0 0 0 0]\n"
          ]
        }
      ],
      "source": [
        "## Create a function `create_zeros_array` that takes an integer `n` as input and returns a NumPy array of zeros with `n` elements.\n",
        "\n",
        "def create_zeros_array():\n",
        "  arr = eval(input(\"enter the element of n:\"))\n",
        "  arr = np.zeros(arr,dtype = int)\n",
        "  print(arr)\n",
        "\n",
        "create_zeros_array()\n"
      ]
    },
    {
      "cell_type": "code",
      "execution_count": null,
      "metadata": {
        "colab": {
          "base_uri": "https://localhost:8080/"
        },
        "id": "NXcUPfppQxZp",
        "outputId": "c636190d-c3de-4965-bf8b-bde05df9486e"
      },
      "outputs": [
        {
          "name": "stdout",
          "output_type": "stream",
          "text": [
            "enter rows and cols (3,4)\n",
            "[[1 1 1 1]\n",
            " [1 1 1 1]\n",
            " [1 1 1 1]]\n"
          ]
        }
      ],
      "source": [
        "## Write a function `create_ones_matrix` that takes integers `rows` and `cols` as inputs and generates a 2D\n",
        "## NumPy array filled with ones of size `rows x cols`.\n",
        "\n",
        "\n",
        "def create_ones_matrix():\n",
        "  arr = eval(input(\"enter rows and cols \"))\n",
        "  arr = np.ones(arr,dtype = int)\n",
        "  print(arr)\n",
        "\n",
        "create_ones_matrix()"
      ]
    },
    {
      "cell_type": "code",
      "execution_count": null,
      "metadata": {
        "colab": {
          "base_uri": "https://localhost:8080/"
        },
        "id": "_Z1PWmSTQxV3",
        "outputId": "4e9eaa55-df7f-4b26-81a7-68b40e12cfd5"
      },
      "outputs": [
        {
          "name": "stdout",
          "output_type": "stream",
          "text": [
            "enter the step of array>> start,stop,step : 2,9,2\n",
            "[2 4 6 8]\n"
          ]
        }
      ],
      "source": [
        "## Write a function `generate_range_array` that takes three integers start, stop, and step as arguments and\n",
        "## creates a NumPy array with a range starting from `start`, ending at stop (exclusive), and with the specified\n",
        "## `step`.\n",
        "\n",
        "def generate_range_array():\n",
        "  arr = eval(input(\"enter the step of array>> start,stop,step : \"))\n",
        "  arr = np.arange(*arr)\n",
        "  print(arr)\n",
        "\n",
        "generate_range_array()\n"
      ]
    },
    {
      "cell_type": "code",
      "execution_count": null,
      "metadata": {
        "colab": {
          "base_uri": "https://localhost:8080/"
        },
        "id": "mEKYeC_qQxSQ",
        "outputId": "42e0346e-3e25-4f25-f584-ce8a0302f714"
      },
      "outputs": [
        {
          "name": "stdout",
          "output_type": "stream",
          "text": [
            "start ,stop , num :2.3,8.3,5\n",
            "[2.3 3.8 5.3 6.8 8.3]\n"
          ]
        }
      ],
      "source": [
        "## Design a function `generate_linear_space` that takes two floats `start`, `stop`, and an integer `num` as\n",
        "## arguments and generates a NumPy array with num equally spaced values between `start` and `stop`\n",
        "## (inclusive).\n",
        "\n",
        "\n",
        "def generate_linear_space():\n",
        "  arr = eval(input(\"start ,stop , num :\"))\n",
        "  arr = np.linspace(*arr)\n",
        "  print(arr)\n",
        "generate_linear_space()\n",
        "\n"
      ]
    },
    {
      "cell_type": "code",
      "execution_count": null,
      "metadata": {
        "colab": {
          "base_uri": "https://localhost:8080/"
        },
        "id": "hDeZXNxXQxOg",
        "outputId": "05e95dea-95a7-4ecf-d899-c46dc427b423"
      },
      "outputs": [
        {
          "name": "stdout",
          "output_type": "stream",
          "text": [
            "enter the integer :5\n",
            "[[1. 0. 0. 0. 0.]\n",
            " [0. 1. 0. 0. 0.]\n",
            " [0. 0. 1. 0. 0.]\n",
            " [0. 0. 0. 1. 0.]\n",
            " [0. 0. 0. 0. 1.]]\n"
          ]
        }
      ],
      "source": [
        "## Create a function `create_identity_matrix` that takes an integer `n` as input and generates a square\n",
        "## identity matrix of size `n x n` using `numpy.eye`.\n",
        "\n",
        "def create_identity_matrix():\n",
        "  arr = eval(input(\"enter the integer :\"))\n",
        "  arr = np.eye(arr)\n",
        "  print(arr)\n",
        "\n",
        "create_identity_matrix()"
      ]
    },
    {
      "cell_type": "code",
      "execution_count": null,
      "metadata": {
        "colab": {
          "base_uri": "https://localhost:8080/"
        },
        "id": "GVw5lEgrQxLA",
        "outputId": "32d01122-fc6b-4fe8-8ff5-30390db159fa"
      },
      "outputs": [
        {
          "data": {
            "text/plain": [
              "array([1, 2, 3, 4, 5, 6, 7, 8])"
            ]
          },
          "execution_count": 59,
          "metadata": {},
          "output_type": "execute_result"
        }
      ],
      "source": [
        "## Write a function that takes a Python list and converts it into a NumPy array.\n",
        "\n",
        "lis = [1,2,3,4,5,6,7,8]\n",
        "\n",
        "arr = np.array(lis)\n",
        "arr"
      ]
    },
    {
      "cell_type": "code",
      "execution_count": null,
      "metadata": {
        "colab": {
          "base_uri": "https://localhost:8080/"
        },
        "id": "-501BjOAQxHQ",
        "outputId": "c330b58d-5523-4181-9877-a7f9ef4f3001"
      },
      "outputs": [
        {
          "data": {
            "text/plain": [
              "array([1, 2, 3, 4, 5, 6, 7, 8])"
            ]
          },
          "execution_count": 60,
          "metadata": {},
          "output_type": "execute_result"
        }
      ],
      "source": [
        "## Create a NumPy array and demonstrate the use of `numpy.view` to create a new array object with the same data.\n",
        "arr = np.array([1,2,3,4,5,6,7,8])\n",
        "arr1 = arr.view()\n",
        "arr1"
      ]
    },
    {
      "cell_type": "code",
      "execution_count": null,
      "metadata": {
        "colab": {
          "base_uri": "https://localhost:8080/"
        },
        "id": "ZE01PzIMQxD2",
        "outputId": "11041edc-8b52-4ee0-c3ee-884445c2c93f"
      },
      "outputs": [
        {
          "data": {
            "text/plain": [
              "array([1, 2, 3, 4, 5, 6, 9, 8, 7, 5, 4, 3])"
            ]
          },
          "execution_count": 65,
          "metadata": {},
          "output_type": "execute_result"
        }
      ],
      "source": [
        "## Write a function that takes two NumPy arrays and concatenates them along a specified axis.\n",
        "\n",
        "arr1 = np.array([1,2,3,4,5,6])\n",
        "arr2 = np.array([9,8,7,5,4,3])\n",
        "arr = np.concatenate((arr1,arr2))\n",
        "arr"
      ]
    },
    {
      "cell_type": "code",
      "execution_count": null,
      "metadata": {
        "colab": {
          "base_uri": "https://localhost:8080/"
        },
        "id": "F8whethgQxAL",
        "outputId": "38d24c63-eddc-47fa-a030-c15934f63822"
      },
      "outputs": [
        {
          "data": {
            "text/plain": [
              "array([[1, 2, 3, 4, 5, 6],\n",
              "       [9, 8, 7, 5, 4, 3]])"
            ]
          },
          "execution_count": 74,
          "metadata": {},
          "output_type": "execute_result"
        }
      ],
      "source": [
        "## Create two NumPy arrays with different shapes and concatenate them horizontally using `numpy concatenate`.\n",
        "\n",
        "arr1 = np.array([[1,2,3,4,5,6]])\n",
        "arr2 = np.array([[9,8,7,5,4,3]])\n",
        "arr = np.concatenate((arr1,arr2),axis = 0)\n",
        "arr\n"
      ]
    },
    {
      "cell_type": "code",
      "execution_count": null,
      "metadata": {
        "colab": {
          "base_uri": "https://localhost:8080/"
        },
        "id": "z5bKif4hQw8l",
        "outputId": "213f9184-cdaa-4a8a-daec-4276493bb8a9"
      },
      "outputs": [
        {
          "data": {
            "text/plain": [
              "array([[1, 2, 3, 4, 5, 6],\n",
              "       [9, 8, 7, 5, 4, 3],\n",
              "       [1, 2, 3, 4, 5, 6]])"
            ]
          },
          "execution_count": 2,
          "metadata": {},
          "output_type": "execute_result"
        }
      ],
      "source": [
        "## Write a function that vertically stacks multiple NumPy arrays given as a list.(20)\n",
        "import numpy as np\n",
        "\n",
        "\n",
        "\n",
        "arr1 = np.array([[1,2,3,4,5,6]])\n",
        "arr2 = np.array([[9,8,7,5,4,3]])\n",
        "arr3 = np.array([[1,2,3,4,5,6]])\n",
        "arr = np.concatenate((arr1,arr2,arr3),axis = 0)\n",
        "arr\n",
        "\n"
      ]
    },
    {
      "cell_type": "code",
      "execution_count": null,
      "metadata": {
        "colab": {
          "base_uri": "https://localhost:8080/"
        },
        "id": "K5SkNaCfQw4h",
        "outputId": "dfb2e74e-e075-4013-d2f8-4ea1ea02668c"
      },
      "outputs": [
        {
          "data": {
            "text/plain": [
              "array([1, 3, 5, 7, 9])"
            ]
          },
          "execution_count": 4,
          "metadata": {},
          "output_type": "execute_result"
        }
      ],
      "source": [
        "## Write a Python function using NumPy to create an array of integers within a specified range (inclusive)\n",
        "## with a given step size.\n",
        "\n",
        "\n",
        "\n",
        "a1 = np.arange(1,10,2)\n",
        "a1"
      ]
    },
    {
      "cell_type": "code",
      "execution_count": null,
      "metadata": {
        "colab": {
          "base_uri": "https://localhost:8080/"
        },
        "id": "gx9CuAApQw0z",
        "outputId": "d1ad55e6-6e35-4798-d580-dac0d26b55cd"
      },
      "outputs": [
        {
          "data": {
            "text/plain": [
              "array([0.        , 0.11111111, 0.22222222, 0.33333333, 0.44444444,\n",
              "       0.55555556, 0.66666667, 0.77777778, 0.88888889, 1.        ])"
            ]
          },
          "execution_count": 7,
          "metadata": {},
          "output_type": "execute_result"
        }
      ],
      "source": [
        "##Write a Python function using NumPy to generate an array of 10 equally spaced values between 0 and 1 (inclusive).\n",
        "\n",
        "a2 = np.linspace(0,1,10)\n",
        "a2"
      ]
    },
    {
      "cell_type": "code",
      "execution_count": null,
      "metadata": {
        "colab": {
          "base_uri": "https://localhost:8080/"
        },
        "id": "PIhEDxknQww9",
        "outputId": "bd09b8b7-3a6e-4c3c-fb09-1b89dccfffdd"
      },
      "outputs": [
        {
          "name": "stderr",
          "output_type": "stream",
          "text": [
            "/usr/local/lib/python3.11/dist-packages/numpy/_core/function_base.py:312: RuntimeWarning: overflow encountered in power\n",
            "  return _nx.power(base, y)\n"
          ]
        },
        {
          "data": {
            "text/plain": [
              "array([1.00000000e+001, 5.62341325e+250,             inf,             inf,\n",
              "                   inf])"
            ]
          },
          "execution_count": 8,
          "metadata": {},
          "output_type": "execute_result"
        }
      ],
      "source": [
        "## Write a Python function using NumPy to create an array of 5 logarithmically spaced values between 1 and 1000 (inclusive).\n",
        "\n",
        "a3 = np.logspace(1,1000,5)\n",
        "a3\n"
      ]
    },
    {
      "cell_type": "code",
      "execution_count": null,
      "metadata": {
        "colab": {
          "base_uri": "https://localhost:8080/",
          "height": 206
        },
        "id": "zkFq_h-9Qwtd",
        "outputId": "fa529019-d0f6-41e0-d694-ea41caf0d870"
      },
      "outputs": [
        {
          "data": {
            "application/vnd.google.colaboratory.intrinsic+json": {
              "summary": "{\n  \"name\": \"df\",\n  \"rows\": 5,\n  \"fields\": [\n    {\n      \"column\": 0,\n      \"properties\": {\n        \"dtype\": \"number\",\n        \"std\": 19,\n        \"min\": 50,\n        \"max\": 96,\n        \"num_unique_values\": 5,\n        \"samples\": [\n          50,\n          63,\n          56\n        ],\n        \"semantic_type\": \"\",\n        \"description\": \"\"\n      }\n    },\n    {\n      \"column\": 1,\n      \"properties\": {\n        \"dtype\": \"number\",\n        \"std\": 30,\n        \"min\": 1,\n        \"max\": 75,\n        \"num_unique_values\": 5,\n        \"samples\": [\n          75,\n          47,\n          19\n        ],\n        \"semantic_type\": \"\",\n        \"description\": \"\"\n      }\n    },\n    {\n      \"column\": 2,\n      \"properties\": {\n        \"dtype\": \"number\",\n        \"std\": 41,\n        \"min\": 3,\n        \"max\": 81,\n        \"num_unique_values\": 4,\n        \"samples\": [\n          81,\n          76,\n          3\n        ],\n        \"semantic_type\": \"\",\n        \"description\": \"\"\n      }\n    }\n  ]\n}",
              "type": "dataframe",
              "variable_name": "df"
            },
            "text/html": [
              "\n",
              "  <div id=\"df-92e4e601-c687-4a09-8b25-776a1caf3814\" class=\"colab-df-container\">\n",
              "    <div>\n",
              "<style scoped>\n",
              "    .dataframe tbody tr th:only-of-type {\n",
              "        vertical-align: middle;\n",
              "    }\n",
              "\n",
              "    .dataframe tbody tr th {\n",
              "        vertical-align: top;\n",
              "    }\n",
              "\n",
              "    .dataframe thead th {\n",
              "        text-align: right;\n",
              "    }\n",
              "</style>\n",
              "<table border=\"1\" class=\"dataframe\">\n",
              "  <thead>\n",
              "    <tr style=\"text-align: right;\">\n",
              "      <th></th>\n",
              "      <th>0</th>\n",
              "      <th>1</th>\n",
              "      <th>2</th>\n",
              "    </tr>\n",
              "  </thead>\n",
              "  <tbody>\n",
              "    <tr>\n",
              "      <th>0</th>\n",
              "      <td>83</td>\n",
              "      <td>1</td>\n",
              "      <td>3</td>\n",
              "    </tr>\n",
              "    <tr>\n",
              "      <th>1</th>\n",
              "      <td>50</td>\n",
              "      <td>75</td>\n",
              "      <td>3</td>\n",
              "    </tr>\n",
              "    <tr>\n",
              "      <th>2</th>\n",
              "      <td>56</td>\n",
              "      <td>19</td>\n",
              "      <td>81</td>\n",
              "    </tr>\n",
              "    <tr>\n",
              "      <th>3</th>\n",
              "      <td>96</td>\n",
              "      <td>8</td>\n",
              "      <td>80</td>\n",
              "    </tr>\n",
              "    <tr>\n",
              "      <th>4</th>\n",
              "      <td>63</td>\n",
              "      <td>47</td>\n",
              "      <td>76</td>\n",
              "    </tr>\n",
              "  </tbody>\n",
              "</table>\n",
              "</div>\n",
              "    <div class=\"colab-df-buttons\">\n",
              "\n",
              "  <div class=\"colab-df-container\">\n",
              "    <button class=\"colab-df-convert\" onclick=\"convertToInteractive('df-92e4e601-c687-4a09-8b25-776a1caf3814')\"\n",
              "            title=\"Convert this dataframe to an interactive table.\"\n",
              "            style=\"display:none;\">\n",
              "\n",
              "  <svg xmlns=\"http://www.w3.org/2000/svg\" height=\"24px\" viewBox=\"0 -960 960 960\">\n",
              "    <path d=\"M120-120v-720h720v720H120Zm60-500h600v-160H180v160Zm220 220h160v-160H400v160Zm0 220h160v-160H400v160ZM180-400h160v-160H180v160Zm440 0h160v-160H620v160ZM180-180h160v-160H180v160Zm440 0h160v-160H620v160Z\"/>\n",
              "  </svg>\n",
              "    </button>\n",
              "\n",
              "  <style>\n",
              "    .colab-df-container {\n",
              "      display:flex;\n",
              "      gap: 12px;\n",
              "    }\n",
              "\n",
              "    .colab-df-convert {\n",
              "      background-color: #E8F0FE;\n",
              "      border: none;\n",
              "      border-radius: 50%;\n",
              "      cursor: pointer;\n",
              "      display: none;\n",
              "      fill: #1967D2;\n",
              "      height: 32px;\n",
              "      padding: 0 0 0 0;\n",
              "      width: 32px;\n",
              "    }\n",
              "\n",
              "    .colab-df-convert:hover {\n",
              "      background-color: #E2EBFA;\n",
              "      box-shadow: 0px 1px 2px rgba(60, 64, 67, 0.3), 0px 1px 3px 1px rgba(60, 64, 67, 0.15);\n",
              "      fill: #174EA6;\n",
              "    }\n",
              "\n",
              "    .colab-df-buttons div {\n",
              "      margin-bottom: 4px;\n",
              "    }\n",
              "\n",
              "    [theme=dark] .colab-df-convert {\n",
              "      background-color: #3B4455;\n",
              "      fill: #D2E3FC;\n",
              "    }\n",
              "\n",
              "    [theme=dark] .colab-df-convert:hover {\n",
              "      background-color: #434B5C;\n",
              "      box-shadow: 0px 1px 3px 1px rgba(0, 0, 0, 0.15);\n",
              "      filter: drop-shadow(0px 1px 2px rgba(0, 0, 0, 0.3));\n",
              "      fill: #FFFFFF;\n",
              "    }\n",
              "  </style>\n",
              "\n",
              "    <script>\n",
              "      const buttonEl =\n",
              "        document.querySelector('#df-92e4e601-c687-4a09-8b25-776a1caf3814 button.colab-df-convert');\n",
              "      buttonEl.style.display =\n",
              "        google.colab.kernel.accessAllowed ? 'block' : 'none';\n",
              "\n",
              "      async function convertToInteractive(key) {\n",
              "        const element = document.querySelector('#df-92e4e601-c687-4a09-8b25-776a1caf3814');\n",
              "        const dataTable =\n",
              "          await google.colab.kernel.invokeFunction('convertToInteractive',\n",
              "                                                    [key], {});\n",
              "        if (!dataTable) return;\n",
              "\n",
              "        const docLinkHtml = 'Like what you see? Visit the ' +\n",
              "          '<a target=\"_blank\" href=https://colab.research.google.com/notebooks/data_table.ipynb>data table notebook</a>'\n",
              "          + ' to learn more about interactive tables.';\n",
              "        element.innerHTML = '';\n",
              "        dataTable['output_type'] = 'display_data';\n",
              "        await google.colab.output.renderOutput(dataTable, element);\n",
              "        const docLink = document.createElement('div');\n",
              "        docLink.innerHTML = docLinkHtml;\n",
              "        element.appendChild(docLink);\n",
              "      }\n",
              "    </script>\n",
              "  </div>\n",
              "\n",
              "\n",
              "    <div id=\"df-7831a953-c68c-4e41-8ca7-c316f40596b2\">\n",
              "      <button class=\"colab-df-quickchart\" onclick=\"quickchart('df-7831a953-c68c-4e41-8ca7-c316f40596b2')\"\n",
              "                title=\"Suggest charts\"\n",
              "                style=\"display:none;\">\n",
              "\n",
              "<svg xmlns=\"http://www.w3.org/2000/svg\" height=\"24px\"viewBox=\"0 0 24 24\"\n",
              "     width=\"24px\">\n",
              "    <g>\n",
              "        <path d=\"M19 3H5c-1.1 0-2 .9-2 2v14c0 1.1.9 2 2 2h14c1.1 0 2-.9 2-2V5c0-1.1-.9-2-2-2zM9 17H7v-7h2v7zm4 0h-2V7h2v10zm4 0h-2v-4h2v4z\"/>\n",
              "    </g>\n",
              "</svg>\n",
              "      </button>\n",
              "\n",
              "<style>\n",
              "  .colab-df-quickchart {\n",
              "      --bg-color: #E8F0FE;\n",
              "      --fill-color: #1967D2;\n",
              "      --hover-bg-color: #E2EBFA;\n",
              "      --hover-fill-color: #174EA6;\n",
              "      --disabled-fill-color: #AAA;\n",
              "      --disabled-bg-color: #DDD;\n",
              "  }\n",
              "\n",
              "  [theme=dark] .colab-df-quickchart {\n",
              "      --bg-color: #3B4455;\n",
              "      --fill-color: #D2E3FC;\n",
              "      --hover-bg-color: #434B5C;\n",
              "      --hover-fill-color: #FFFFFF;\n",
              "      --disabled-bg-color: #3B4455;\n",
              "      --disabled-fill-color: #666;\n",
              "  }\n",
              "\n",
              "  .colab-df-quickchart {\n",
              "    background-color: var(--bg-color);\n",
              "    border: none;\n",
              "    border-radius: 50%;\n",
              "    cursor: pointer;\n",
              "    display: none;\n",
              "    fill: var(--fill-color);\n",
              "    height: 32px;\n",
              "    padding: 0;\n",
              "    width: 32px;\n",
              "  }\n",
              "\n",
              "  .colab-df-quickchart:hover {\n",
              "    background-color: var(--hover-bg-color);\n",
              "    box-shadow: 0 1px 2px rgba(60, 64, 67, 0.3), 0 1px 3px 1px rgba(60, 64, 67, 0.15);\n",
              "    fill: var(--button-hover-fill-color);\n",
              "  }\n",
              "\n",
              "  .colab-df-quickchart-complete:disabled,\n",
              "  .colab-df-quickchart-complete:disabled:hover {\n",
              "    background-color: var(--disabled-bg-color);\n",
              "    fill: var(--disabled-fill-color);\n",
              "    box-shadow: none;\n",
              "  }\n",
              "\n",
              "  .colab-df-spinner {\n",
              "    border: 2px solid var(--fill-color);\n",
              "    border-color: transparent;\n",
              "    border-bottom-color: var(--fill-color);\n",
              "    animation:\n",
              "      spin 1s steps(1) infinite;\n",
              "  }\n",
              "\n",
              "  @keyframes spin {\n",
              "    0% {\n",
              "      border-color: transparent;\n",
              "      border-bottom-color: var(--fill-color);\n",
              "      border-left-color: var(--fill-color);\n",
              "    }\n",
              "    20% {\n",
              "      border-color: transparent;\n",
              "      border-left-color: var(--fill-color);\n",
              "      border-top-color: var(--fill-color);\n",
              "    }\n",
              "    30% {\n",
              "      border-color: transparent;\n",
              "      border-left-color: var(--fill-color);\n",
              "      border-top-color: var(--fill-color);\n",
              "      border-right-color: var(--fill-color);\n",
              "    }\n",
              "    40% {\n",
              "      border-color: transparent;\n",
              "      border-right-color: var(--fill-color);\n",
              "      border-top-color: var(--fill-color);\n",
              "    }\n",
              "    60% {\n",
              "      border-color: transparent;\n",
              "      border-right-color: var(--fill-color);\n",
              "    }\n",
              "    80% {\n",
              "      border-color: transparent;\n",
              "      border-right-color: var(--fill-color);\n",
              "      border-bottom-color: var(--fill-color);\n",
              "    }\n",
              "    90% {\n",
              "      border-color: transparent;\n",
              "      border-bottom-color: var(--fill-color);\n",
              "    }\n",
              "  }\n",
              "</style>\n",
              "\n",
              "      <script>\n",
              "        async function quickchart(key) {\n",
              "          const quickchartButtonEl =\n",
              "            document.querySelector('#' + key + ' button');\n",
              "          quickchartButtonEl.disabled = true;  // To prevent multiple clicks.\n",
              "          quickchartButtonEl.classList.add('colab-df-spinner');\n",
              "          try {\n",
              "            const charts = await google.colab.kernel.invokeFunction(\n",
              "                'suggestCharts', [key], {});\n",
              "          } catch (error) {\n",
              "            console.error('Error during call to suggestCharts:', error);\n",
              "          }\n",
              "          quickchartButtonEl.classList.remove('colab-df-spinner');\n",
              "          quickchartButtonEl.classList.add('colab-df-quickchart-complete');\n",
              "        }\n",
              "        (() => {\n",
              "          let quickchartButtonEl =\n",
              "            document.querySelector('#df-7831a953-c68c-4e41-8ca7-c316f40596b2 button');\n",
              "          quickchartButtonEl.style.display =\n",
              "            google.colab.kernel.accessAllowed ? 'block' : 'none';\n",
              "        })();\n",
              "      </script>\n",
              "    </div>\n",
              "\n",
              "  <div id=\"id_67aa086a-6244-4621-b901-8ddd93cbc441\">\n",
              "    <style>\n",
              "      .colab-df-generate {\n",
              "        background-color: #E8F0FE;\n",
              "        border: none;\n",
              "        border-radius: 50%;\n",
              "        cursor: pointer;\n",
              "        display: none;\n",
              "        fill: #1967D2;\n",
              "        height: 32px;\n",
              "        padding: 0 0 0 0;\n",
              "        width: 32px;\n",
              "      }\n",
              "\n",
              "      .colab-df-generate:hover {\n",
              "        background-color: #E2EBFA;\n",
              "        box-shadow: 0px 1px 2px rgba(60, 64, 67, 0.3), 0px 1px 3px 1px rgba(60, 64, 67, 0.15);\n",
              "        fill: #174EA6;\n",
              "      }\n",
              "\n",
              "      [theme=dark] .colab-df-generate {\n",
              "        background-color: #3B4455;\n",
              "        fill: #D2E3FC;\n",
              "      }\n",
              "\n",
              "      [theme=dark] .colab-df-generate:hover {\n",
              "        background-color: #434B5C;\n",
              "        box-shadow: 0px 1px 3px 1px rgba(0, 0, 0, 0.15);\n",
              "        filter: drop-shadow(0px 1px 2px rgba(0, 0, 0, 0.3));\n",
              "        fill: #FFFFFF;\n",
              "      }\n",
              "    </style>\n",
              "    <button class=\"colab-df-generate\" onclick=\"generateWithVariable('df')\"\n",
              "            title=\"Generate code using this dataframe.\"\n",
              "            style=\"display:none;\">\n",
              "\n",
              "  <svg xmlns=\"http://www.w3.org/2000/svg\" height=\"24px\"viewBox=\"0 0 24 24\"\n",
              "       width=\"24px\">\n",
              "    <path d=\"M7,19H8.4L18.45,9,17,7.55,7,17.6ZM5,21V16.75L18.45,3.32a2,2,0,0,1,2.83,0l1.4,1.43a1.91,1.91,0,0,1,.58,1.4,1.91,1.91,0,0,1-.58,1.4L9.25,21ZM18.45,9,17,7.55Zm-12,3A5.31,5.31,0,0,0,4.9,8.1,5.31,5.31,0,0,0,1,6.5,5.31,5.31,0,0,0,4.9,4.9,5.31,5.31,0,0,0,6.5,1,5.31,5.31,0,0,0,8.1,4.9,5.31,5.31,0,0,0,12,6.5,5.46,5.46,0,0,0,6.5,12Z\"/>\n",
              "  </svg>\n",
              "    </button>\n",
              "    <script>\n",
              "      (() => {\n",
              "      const buttonEl =\n",
              "        document.querySelector('#id_67aa086a-6244-4621-b901-8ddd93cbc441 button.colab-df-generate');\n",
              "      buttonEl.style.display =\n",
              "        google.colab.kernel.accessAllowed ? 'block' : 'none';\n",
              "\n",
              "      buttonEl.onclick = () => {\n",
              "        google.colab.notebook.generateWithVariable('df');\n",
              "      }\n",
              "      })();\n",
              "    </script>\n",
              "  </div>\n",
              "\n",
              "    </div>\n",
              "  </div>\n"
            ],
            "text/plain": [
              "    0   1   2\n",
              "0  83   1   3\n",
              "1  50  75   3\n",
              "2  56  19  81\n",
              "3  96   8  80\n",
              "4  63  47  76"
            ]
          },
          "execution_count": 11,
          "metadata": {},
          "output_type": "execute_result"
        }
      ],
      "source": [
        "## Create a Pandas DataFrame using a NumPy array that contains 5 rows and 3 columns, where the values\n",
        "## are random integers between 1 and 100.\n",
        "import pandas as pd\n",
        "\n",
        "\n",
        "df = pd.DataFrame(np.random.randint(1,100,(5,3)))\n",
        "df"
      ]
    },
    {
      "cell_type": "code",
      "execution_count": null,
      "metadata": {
        "colab": {
          "base_uri": "https://localhost:8080/",
          "height": 206
        },
        "id": "LW0si8m8Qwph",
        "outputId": "e8dc9fb8-5163-4e96-f0da-3ed8a03540b1"
      },
      "outputs": [
        {
          "data": {
            "application/vnd.google.colaboratory.intrinsic+json": {
              "summary": "{\n  \"name\": \"df\",\n  \"rows\": 5,\n  \"fields\": [\n    {\n      \"column\": 0,\n      \"properties\": {\n        \"dtype\": \"number\",\n        \"std\": 45,\n        \"min\": 0,\n        \"max\": 90,\n        \"num_unique_values\": 3,\n        \"samples\": [\n          0,\n          73,\n          90\n        ],\n        \"semantic_type\": \"\",\n        \"description\": \"\"\n      }\n    },\n    {\n      \"column\": 1,\n      \"properties\": {\n        \"dtype\": \"number\",\n        \"std\": 31,\n        \"min\": 0,\n        \"max\": 78,\n        \"num_unique_values\": 4,\n        \"samples\": [\n          0,\n          22,\n          29\n        ],\n        \"semantic_type\": \"\",\n        \"description\": \"\"\n      }\n    },\n    {\n      \"column\": 2,\n      \"properties\": {\n        \"dtype\": \"number\",\n        \"std\": 32,\n        \"min\": 0,\n        \"max\": 80,\n        \"num_unique_values\": 5,\n        \"samples\": [\n          80,\n          66,\n          72\n        ],\n        \"semantic_type\": \"\",\n        \"description\": \"\"\n      }\n    },\n    {\n      \"column\": 3,\n      \"properties\": {\n        \"dtype\": \"number\",\n        \"std\": 27,\n        \"min\": 0,\n        \"max\": 56,\n        \"num_unique_values\": 5,\n        \"samples\": [\n          56,\n          1,\n          54\n        ],\n        \"semantic_type\": \"\",\n        \"description\": \"\"\n      }\n    }\n  ]\n}",
              "type": "dataframe",
              "variable_name": "df"
            },
            "text/html": [
              "\n",
              "  <div id=\"df-5b205522-c0b1-4b6a-add1-19f7df2bee08\" class=\"colab-df-container\">\n",
              "    <div>\n",
              "<style scoped>\n",
              "    .dataframe tbody tr th:only-of-type {\n",
              "        vertical-align: middle;\n",
              "    }\n",
              "\n",
              "    .dataframe tbody tr th {\n",
              "        vertical-align: top;\n",
              "    }\n",
              "\n",
              "    .dataframe thead th {\n",
              "        text-align: right;\n",
              "    }\n",
              "</style>\n",
              "<table border=\"1\" class=\"dataframe\">\n",
              "  <thead>\n",
              "    <tr style=\"text-align: right;\">\n",
              "      <th></th>\n",
              "      <th>0</th>\n",
              "      <th>1</th>\n",
              "      <th>2</th>\n",
              "      <th>3</th>\n",
              "    </tr>\n",
              "  </thead>\n",
              "  <tbody>\n",
              "    <tr>\n",
              "      <th>0</th>\n",
              "      <td>0</td>\n",
              "      <td>29</td>\n",
              "      <td>0</td>\n",
              "      <td>0</td>\n",
              "    </tr>\n",
              "    <tr>\n",
              "      <th>1</th>\n",
              "      <td>0</td>\n",
              "      <td>0</td>\n",
              "      <td>80</td>\n",
              "      <td>56</td>\n",
              "    </tr>\n",
              "    <tr>\n",
              "      <th>2</th>\n",
              "      <td>73</td>\n",
              "      <td>0</td>\n",
              "      <td>72</td>\n",
              "      <td>54</td>\n",
              "    </tr>\n",
              "    <tr>\n",
              "      <th>3</th>\n",
              "      <td>90</td>\n",
              "      <td>78</td>\n",
              "      <td>39</td>\n",
              "      <td>21</td>\n",
              "    </tr>\n",
              "    <tr>\n",
              "      <th>4</th>\n",
              "      <td>0</td>\n",
              "      <td>22</td>\n",
              "      <td>66</td>\n",
              "      <td>1</td>\n",
              "    </tr>\n",
              "  </tbody>\n",
              "</table>\n",
              "</div>\n",
              "    <div class=\"colab-df-buttons\">\n",
              "\n",
              "  <div class=\"colab-df-container\">\n",
              "    <button class=\"colab-df-convert\" onclick=\"convertToInteractive('df-5b205522-c0b1-4b6a-add1-19f7df2bee08')\"\n",
              "            title=\"Convert this dataframe to an interactive table.\"\n",
              "            style=\"display:none;\">\n",
              "\n",
              "  <svg xmlns=\"http://www.w3.org/2000/svg\" height=\"24px\" viewBox=\"0 -960 960 960\">\n",
              "    <path d=\"M120-120v-720h720v720H120Zm60-500h600v-160H180v160Zm220 220h160v-160H400v160Zm0 220h160v-160H400v160ZM180-400h160v-160H180v160Zm440 0h160v-160H620v160ZM180-180h160v-160H180v160Zm440 0h160v-160H620v160Z\"/>\n",
              "  </svg>\n",
              "    </button>\n",
              "\n",
              "  <style>\n",
              "    .colab-df-container {\n",
              "      display:flex;\n",
              "      gap: 12px;\n",
              "    }\n",
              "\n",
              "    .colab-df-convert {\n",
              "      background-color: #E8F0FE;\n",
              "      border: none;\n",
              "      border-radius: 50%;\n",
              "      cursor: pointer;\n",
              "      display: none;\n",
              "      fill: #1967D2;\n",
              "      height: 32px;\n",
              "      padding: 0 0 0 0;\n",
              "      width: 32px;\n",
              "    }\n",
              "\n",
              "    .colab-df-convert:hover {\n",
              "      background-color: #E2EBFA;\n",
              "      box-shadow: 0px 1px 2px rgba(60, 64, 67, 0.3), 0px 1px 3px 1px rgba(60, 64, 67, 0.15);\n",
              "      fill: #174EA6;\n",
              "    }\n",
              "\n",
              "    .colab-df-buttons div {\n",
              "      margin-bottom: 4px;\n",
              "    }\n",
              "\n",
              "    [theme=dark] .colab-df-convert {\n",
              "      background-color: #3B4455;\n",
              "      fill: #D2E3FC;\n",
              "    }\n",
              "\n",
              "    [theme=dark] .colab-df-convert:hover {\n",
              "      background-color: #434B5C;\n",
              "      box-shadow: 0px 1px 3px 1px rgba(0, 0, 0, 0.15);\n",
              "      filter: drop-shadow(0px 1px 2px rgba(0, 0, 0, 0.3));\n",
              "      fill: #FFFFFF;\n",
              "    }\n",
              "  </style>\n",
              "\n",
              "    <script>\n",
              "      const buttonEl =\n",
              "        document.querySelector('#df-5b205522-c0b1-4b6a-add1-19f7df2bee08 button.colab-df-convert');\n",
              "      buttonEl.style.display =\n",
              "        google.colab.kernel.accessAllowed ? 'block' : 'none';\n",
              "\n",
              "      async function convertToInteractive(key) {\n",
              "        const element = document.querySelector('#df-5b205522-c0b1-4b6a-add1-19f7df2bee08');\n",
              "        const dataTable =\n",
              "          await google.colab.kernel.invokeFunction('convertToInteractive',\n",
              "                                                    [key], {});\n",
              "        if (!dataTable) return;\n",
              "\n",
              "        const docLinkHtml = 'Like what you see? Visit the ' +\n",
              "          '<a target=\"_blank\" href=https://colab.research.google.com/notebooks/data_table.ipynb>data table notebook</a>'\n",
              "          + ' to learn more about interactive tables.';\n",
              "        element.innerHTML = '';\n",
              "        dataTable['output_type'] = 'display_data';\n",
              "        await google.colab.output.renderOutput(dataTable, element);\n",
              "        const docLink = document.createElement('div');\n",
              "        docLink.innerHTML = docLinkHtml;\n",
              "        element.appendChild(docLink);\n",
              "      }\n",
              "    </script>\n",
              "  </div>\n",
              "\n",
              "\n",
              "    <div id=\"df-d077a899-7fc8-40d7-84e5-f9429364623d\">\n",
              "      <button class=\"colab-df-quickchart\" onclick=\"quickchart('df-d077a899-7fc8-40d7-84e5-f9429364623d')\"\n",
              "                title=\"Suggest charts\"\n",
              "                style=\"display:none;\">\n",
              "\n",
              "<svg xmlns=\"http://www.w3.org/2000/svg\" height=\"24px\"viewBox=\"0 0 24 24\"\n",
              "     width=\"24px\">\n",
              "    <g>\n",
              "        <path d=\"M19 3H5c-1.1 0-2 .9-2 2v14c0 1.1.9 2 2 2h14c1.1 0 2-.9 2-2V5c0-1.1-.9-2-2-2zM9 17H7v-7h2v7zm4 0h-2V7h2v10zm4 0h-2v-4h2v4z\"/>\n",
              "    </g>\n",
              "</svg>\n",
              "      </button>\n",
              "\n",
              "<style>\n",
              "  .colab-df-quickchart {\n",
              "      --bg-color: #E8F0FE;\n",
              "      --fill-color: #1967D2;\n",
              "      --hover-bg-color: #E2EBFA;\n",
              "      --hover-fill-color: #174EA6;\n",
              "      --disabled-fill-color: #AAA;\n",
              "      --disabled-bg-color: #DDD;\n",
              "  }\n",
              "\n",
              "  [theme=dark] .colab-df-quickchart {\n",
              "      --bg-color: #3B4455;\n",
              "      --fill-color: #D2E3FC;\n",
              "      --hover-bg-color: #434B5C;\n",
              "      --hover-fill-color: #FFFFFF;\n",
              "      --disabled-bg-color: #3B4455;\n",
              "      --disabled-fill-color: #666;\n",
              "  }\n",
              "\n",
              "  .colab-df-quickchart {\n",
              "    background-color: var(--bg-color);\n",
              "    border: none;\n",
              "    border-radius: 50%;\n",
              "    cursor: pointer;\n",
              "    display: none;\n",
              "    fill: var(--fill-color);\n",
              "    height: 32px;\n",
              "    padding: 0;\n",
              "    width: 32px;\n",
              "  }\n",
              "\n",
              "  .colab-df-quickchart:hover {\n",
              "    background-color: var(--hover-bg-color);\n",
              "    box-shadow: 0 1px 2px rgba(60, 64, 67, 0.3), 0 1px 3px 1px rgba(60, 64, 67, 0.15);\n",
              "    fill: var(--button-hover-fill-color);\n",
              "  }\n",
              "\n",
              "  .colab-df-quickchart-complete:disabled,\n",
              "  .colab-df-quickchart-complete:disabled:hover {\n",
              "    background-color: var(--disabled-bg-color);\n",
              "    fill: var(--disabled-fill-color);\n",
              "    box-shadow: none;\n",
              "  }\n",
              "\n",
              "  .colab-df-spinner {\n",
              "    border: 2px solid var(--fill-color);\n",
              "    border-color: transparent;\n",
              "    border-bottom-color: var(--fill-color);\n",
              "    animation:\n",
              "      spin 1s steps(1) infinite;\n",
              "  }\n",
              "\n",
              "  @keyframes spin {\n",
              "    0% {\n",
              "      border-color: transparent;\n",
              "      border-bottom-color: var(--fill-color);\n",
              "      border-left-color: var(--fill-color);\n",
              "    }\n",
              "    20% {\n",
              "      border-color: transparent;\n",
              "      border-left-color: var(--fill-color);\n",
              "      border-top-color: var(--fill-color);\n",
              "    }\n",
              "    30% {\n",
              "      border-color: transparent;\n",
              "      border-left-color: var(--fill-color);\n",
              "      border-top-color: var(--fill-color);\n",
              "      border-right-color: var(--fill-color);\n",
              "    }\n",
              "    40% {\n",
              "      border-color: transparent;\n",
              "      border-right-color: var(--fill-color);\n",
              "      border-top-color: var(--fill-color);\n",
              "    }\n",
              "    60% {\n",
              "      border-color: transparent;\n",
              "      border-right-color: var(--fill-color);\n",
              "    }\n",
              "    80% {\n",
              "      border-color: transparent;\n",
              "      border-right-color: var(--fill-color);\n",
              "      border-bottom-color: var(--fill-color);\n",
              "    }\n",
              "    90% {\n",
              "      border-color: transparent;\n",
              "      border-bottom-color: var(--fill-color);\n",
              "    }\n",
              "  }\n",
              "</style>\n",
              "\n",
              "      <script>\n",
              "        async function quickchart(key) {\n",
              "          const quickchartButtonEl =\n",
              "            document.querySelector('#' + key + ' button');\n",
              "          quickchartButtonEl.disabled = true;  // To prevent multiple clicks.\n",
              "          quickchartButtonEl.classList.add('colab-df-spinner');\n",
              "          try {\n",
              "            const charts = await google.colab.kernel.invokeFunction(\n",
              "                'suggestCharts', [key], {});\n",
              "          } catch (error) {\n",
              "            console.error('Error during call to suggestCharts:', error);\n",
              "          }\n",
              "          quickchartButtonEl.classList.remove('colab-df-spinner');\n",
              "          quickchartButtonEl.classList.add('colab-df-quickchart-complete');\n",
              "        }\n",
              "        (() => {\n",
              "          let quickchartButtonEl =\n",
              "            document.querySelector('#df-d077a899-7fc8-40d7-84e5-f9429364623d button');\n",
              "          quickchartButtonEl.style.display =\n",
              "            google.colab.kernel.accessAllowed ? 'block' : 'none';\n",
              "        })();\n",
              "      </script>\n",
              "    </div>\n",
              "\n",
              "  <div id=\"id_50cedef8-6a31-48cf-aefe-cbfe68666757\">\n",
              "    <style>\n",
              "      .colab-df-generate {\n",
              "        background-color: #E8F0FE;\n",
              "        border: none;\n",
              "        border-radius: 50%;\n",
              "        cursor: pointer;\n",
              "        display: none;\n",
              "        fill: #1967D2;\n",
              "        height: 32px;\n",
              "        padding: 0 0 0 0;\n",
              "        width: 32px;\n",
              "      }\n",
              "\n",
              "      .colab-df-generate:hover {\n",
              "        background-color: #E2EBFA;\n",
              "        box-shadow: 0px 1px 2px rgba(60, 64, 67, 0.3), 0px 1px 3px 1px rgba(60, 64, 67, 0.15);\n",
              "        fill: #174EA6;\n",
              "      }\n",
              "\n",
              "      [theme=dark] .colab-df-generate {\n",
              "        background-color: #3B4455;\n",
              "        fill: #D2E3FC;\n",
              "      }\n",
              "\n",
              "      [theme=dark] .colab-df-generate:hover {\n",
              "        background-color: #434B5C;\n",
              "        box-shadow: 0px 1px 3px 1px rgba(0, 0, 0, 0.15);\n",
              "        filter: drop-shadow(0px 1px 2px rgba(0, 0, 0, 0.3));\n",
              "        fill: #FFFFFF;\n",
              "      }\n",
              "    </style>\n",
              "    <button class=\"colab-df-generate\" onclick=\"generateWithVariable('df')\"\n",
              "            title=\"Generate code using this dataframe.\"\n",
              "            style=\"display:none;\">\n",
              "\n",
              "  <svg xmlns=\"http://www.w3.org/2000/svg\" height=\"24px\"viewBox=\"0 0 24 24\"\n",
              "       width=\"24px\">\n",
              "    <path d=\"M7,19H8.4L18.45,9,17,7.55,7,17.6ZM5,21V16.75L18.45,3.32a2,2,0,0,1,2.83,0l1.4,1.43a1.91,1.91,0,0,1,.58,1.4,1.91,1.91,0,0,1-.58,1.4L9.25,21ZM18.45,9,17,7.55Zm-12,3A5.31,5.31,0,0,0,4.9,8.1,5.31,5.31,0,0,0,1,6.5,5.31,5.31,0,0,0,4.9,4.9,5.31,5.31,0,0,0,6.5,1,5.31,5.31,0,0,0,8.1,4.9,5.31,5.31,0,0,0,12,6.5,5.46,5.46,0,0,0,6.5,12Z\"/>\n",
              "  </svg>\n",
              "    </button>\n",
              "    <script>\n",
              "      (() => {\n",
              "      const buttonEl =\n",
              "        document.querySelector('#id_50cedef8-6a31-48cf-aefe-cbfe68666757 button.colab-df-generate');\n",
              "      buttonEl.style.display =\n",
              "        google.colab.kernel.accessAllowed ? 'block' : 'none';\n",
              "\n",
              "      buttonEl.onclick = () => {\n",
              "        google.colab.notebook.generateWithVariable('df');\n",
              "      }\n",
              "      })();\n",
              "    </script>\n",
              "  </div>\n",
              "\n",
              "    </div>\n",
              "  </div>\n"
            ],
            "text/plain": [
              "    0   1   2   3\n",
              "0   0  29   0   0\n",
              "1   0   0  80  56\n",
              "2  73   0  72  54\n",
              "3  90  78  39  21\n",
              "4   0  22  66   1"
            ]
          },
          "execution_count": 27,
          "metadata": {},
          "output_type": "execute_result"
        }
      ],
      "source": [
        "## Write a function that takes a Pandas DataFrame and replaces all negative values in a specific column\n",
        "## with zeros. Use NumPy operations within the Pandas DataFrame.\n",
        "\n",
        "df = pd.DataFrame(np.random.randint(-100,100,(5,4)))\n",
        "df[df<0] = 0\n",
        "df"
      ]
    },
    {
      "cell_type": "code",
      "execution_count": null,
      "metadata": {
        "colab": {
          "base_uri": "https://localhost:8080/"
        },
        "id": "62eHmsufQwmX",
        "outputId": "801ec3ef-e50e-42d2-a936-f9e51e6513cf"
      },
      "outputs": [
        {
          "data": {
            "text/plain": [
              "np.int64(30)"
            ]
          },
          "execution_count": 31,
          "metadata": {},
          "output_type": "execute_result"
        }
      ],
      "source": [
        "## Access the 3rd element from the given NumPy array.\n",
        "\n",
        "## Access the 3rd element from the given NumPy array.\n",
        "\n",
        "arr = np.array([10, 20, 30, 40, 50])\n",
        "arr[2]\n"
      ]
    },
    {
      "cell_type": "code",
      "execution_count": null,
      "metadata": {
        "colab": {
          "base_uri": "https://localhost:8080/"
        },
        "id": "v-RbVCHGQwik",
        "outputId": "d3528c05-e10b-4f4a-a8bd-7a46cd4ad06d"
      },
      "outputs": [
        {
          "data": {
            "text/plain": [
              "np.int64(4)"
            ]
          },
          "execution_count": 14,
          "metadata": {},
          "output_type": "execute_result"
        }
      ],
      "source": [
        "## Retrieve the element at index (1, 2) from the 2D NumPy array.\n",
        "arr = np.random.randint(1,9,(4,3))\n",
        "arr1 = arr[1,2]\n",
        "arr1"
      ]
    },
    {
      "cell_type": "code",
      "execution_count": null,
      "metadata": {
        "colab": {
          "base_uri": "https://localhost:8080/"
        },
        "id": "qJe0yUoRQwfU",
        "outputId": "4e5ad795-8218-4704-c11c-23f9fd035e5a"
      },
      "outputs": [
        {
          "data": {
            "text/plain": [
              "array([1, 2, 3, 4])"
            ]
          },
          "execution_count": 48,
          "metadata": {},
          "output_type": "execute_result"
        }
      ],
      "source": [
        "## Using boolean indexing, extract elements greater than 5 from the given NumPy array.\n",
        "## Using boolean indexing, extract elements greater than 5 from the given NumPy array.\n",
        "arr = np.array([1,2,3,4,5,6,7,8])\n",
        "arr1 = arr[arr<5]\n",
        "arr1\n",
        "\n",
        "\n",
        "\n",
        "\n",
        "\n"
      ]
    },
    {
      "cell_type": "code",
      "execution_count": null,
      "metadata": {
        "colab": {
          "base_uri": "https://localhost:8080/"
        },
        "id": "Suq4R5MEQwbt",
        "outputId": "c41b97cc-5152-46ae-cfc7-c5c0b1098959"
      },
      "outputs": [
        {
          "data": {
            "text/plain": [
              "array([[38, 43, 13, 27, 16],\n",
              "       [13,  7,  8,  5, 24],\n",
              "       [16, 45, 45, 24,  1]])"
            ]
          },
          "execution_count": 51,
          "metadata": {},
          "output_type": "execute_result"
        }
      ],
      "source": [
        "## Perform basic slicing to extract elements from index 2 to 5 (inclusive) from the given NumPy array.\n",
        "\n",
        "arr = np.random.randint(1,50,(6,5))\n",
        "arr1 = arr[2:5]\n",
        "arr1\n"
      ]
    },
    {
      "cell_type": "code",
      "execution_count": null,
      "metadata": {
        "colab": {
          "base_uri": "https://localhost:8080/"
        },
        "id": "3NnXhVCiQwX_",
        "outputId": "c653e86d-a7b7-4a1d-f7e3-455dedd51a39"
      },
      "outputs": [
        {
          "data": {
            "text/plain": [
              "array([16, 27])"
            ]
          },
          "execution_count": 54,
          "metadata": {},
          "output_type": "execute_result"
        }
      ],
      "source": [
        "## Slice the 2D NumPy array to extract the sub-array `[[2, 3], [5, 6]]` from the given array.\n",
        "arr = np.random.randint(1,50,(8,7))\n",
        "arr1 =arr[[2,3],[5,6]]\n",
        "arr1\n",
        "\n"
      ]
    },
    {
      "cell_type": "code",
      "execution_count": null,
      "metadata": {
        "colab": {
          "base_uri": "https://localhost:8080/"
        },
        "id": "D3On9jGFQwUd",
        "outputId": "686b0f9d-5234-4c13-ecd7-a31eb78028f8"
      },
      "outputs": [
        {
          "data": {
            "text/plain": [
              "array([12, 25])"
            ]
          },
          "execution_count": 60,
          "metadata": {},
          "output_type": "execute_result"
        }
      ],
      "source": [
        "## Write a NumPy function to extract elements in specific order from a given 2D array based on indices\n",
        "## provided in another array.\n",
        "arr = np.random.randint(1,50,(8,7))\n",
        "arr1 = arr[[0,4],\n",
        "          [4,5]]\n",
        "arr1"
      ]
    },
    {
      "cell_type": "code",
      "execution_count": null,
      "metadata": {
        "colab": {
          "base_uri": "https://localhost:8080/"
        },
        "id": "E4vkiN9fQwQ9",
        "outputId": "61fa3f2b-8eca-4464-8490-21d7135cce24"
      },
      "outputs": [
        {
          "data": {
            "text/plain": [
              "array([24, 15, 16, 17, 18])"
            ]
          },
          "execution_count": 6,
          "metadata": {},
          "output_type": "execute_result"
        }
      ],
      "source": [
        "##32. Create a NumPy function that filters elements greater than a threshold from a given 1D array using\n",
        "##    boolean indexing.\n",
        "import numpy as np\n",
        "\n",
        "arr = np.array([1,24,12,13,14,15,16,17,18])\n",
        "threshold =14\n",
        "arr1 = arr[arr>threshold]\n",
        "arr1\n",
        "\n"
      ]
    },
    {
      "cell_type": "code",
      "execution_count": null,
      "metadata": {
        "colab": {
          "base_uri": "https://localhost:8080/"
        },
        "id": "TOBfBV1WQwNo",
        "outputId": "ef0558b8-5d9a-4609-c2ec-bde6a8205d92"
      },
      "outputs": [
        {
          "data": {
            "text/plain": [
              "array([4, 8, 5, 6, 7, 5, 6])"
            ]
          },
          "execution_count": 25,
          "metadata": {},
          "output_type": "execute_result"
        }
      ],
      "source": [
        "## Write a NumPy function that returns elements from an array where both two conditions are satisfied\n",
        "## using boolean indexing.\n",
        "\n",
        "arr = np.array([[[1,2,3,4],\n",
        "               [8,5,6,7],\n",
        "                [3,5,6,2]]])\n",
        "\n",
        "arr1 = arr[(arr>3)&(arr>2)]\n",
        "arr1"
      ]
    },
    {
      "cell_type": "code",
      "execution_count": null,
      "metadata": {
        "colab": {
          "base_uri": "https://localhost:8080/"
        },
        "id": "F4lJY5kgQwKZ",
        "outputId": "962155a2-f366-4ee8-95c7-00b489c9affd"
      },
      "outputs": [
        {
          "data": {
            "text/plain": [
              "array([3, 7])"
            ]
          },
          "execution_count": 33,
          "metadata": {},
          "output_type": "execute_result"
        }
      ],
      "source": [
        "## Create a NumPy function that extracts elements from a 2D array using row and column indices provided\n",
        "## in separate arrays.\n",
        "arr = np.array([[1,2,3,4],\n",
        "               [8,5,6,7],\n",
        "                [3,5,6,2]])\n",
        "arr1 = arr[[0,1],\n",
        "           [2,3],\n",
        "           ]\n",
        "arr1\n"
      ]
    },
    {
      "cell_type": "code",
      "execution_count": null,
      "metadata": {
        "colab": {
          "base_uri": "https://localhost:8080/"
        },
        "id": "zOv4GrlNQwGz",
        "outputId": "b43faccc-1dac-4441-ae0a-e96384b9248a"
      },
      "outputs": [
        {
          "data": {
            "text/plain": [
              "array([[ 6,  7,  9],\n",
              "       [13, 10, 11],\n",
              "       [ 8, 11,  7]])"
            ]
          },
          "execution_count": 35,
          "metadata": {},
          "output_type": "execute_result"
        }
      ],
      "source": [
        "##  Given an array arr of shape (3, 3), add a scalar value of 5 to each element using NumPy broadcasting.\n",
        "arr = np.array([[1,2,4],\n",
        "               [8,5,6],\n",
        "                [3,6,2]])\n",
        "\n",
        "arr1 = arr+5\n",
        "arr1"
      ]
    },
    {
      "cell_type": "code",
      "execution_count": null,
      "metadata": {
        "colab": {
          "base_uri": "https://localhost:8080/"
        },
        "id": "HAHih6DiQwDU",
        "outputId": "a3e96713-5b1e-4b77-9c4d-4fada2075c6e"
      },
      "outputs": [
        {
          "data": {
            "text/plain": [
              "array([26, 30, 21, 30])"
            ]
          },
          "execution_count": 39,
          "metadata": {},
          "output_type": "execute_result"
        }
      ],
      "source": [
        "## Consider two arrays arr1 of shape (1, 3) and arr2 of shape (3, 4). Multiply each row of arr2 by the\n",
        "## corresponding element in arr1 using NumPy broadcasting.\n",
        "\n",
        "\n",
        "arr1 = np.array([1,2,3])\n",
        "arr2 = np.array([[1,2,3,4],\n",
        "               [8,5,6,7],\n",
        "                [3,6,2,4]])\n",
        "arr = arr1@arr2\n",
        "arr\n"
      ]
    },
    {
      "cell_type": "code",
      "execution_count": null,
      "metadata": {
        "colab": {
          "base_uri": "https://localhost:8080/"
        },
        "id": "0UHaBRraQv_r",
        "outputId": "967b30ea-ebde-4de6-d96f-c11bcb2249a4"
      },
      "outputs": [
        {
          "data": {
            "text/plain": [
              "array([[ 2,  4,  7],\n",
              "       [ 9,  7, 10],\n",
              "       [ 4,  4,  8],\n",
              "       [ 2,  7,  8]])"
            ]
          },
          "execution_count": 59,
          "metadata": {},
          "output_type": "execute_result"
        }
      ],
      "source": [
        "## Given a 1D array arr1 of shape (1, 4) and a 2D array arr2 of shape (4, 3), add arr1 to each row of arr2 using\n",
        "## NumPy broadcasting.\n",
        "arr1 = np.array([1,2,4])\n",
        "arr2 = np.array([[1,2,3],\n",
        "               [8,5,6],\n",
        "                [3,2,4],\n",
        "                 [1,5,4]])\n",
        "arr2 + arr1\n",
        "\n",
        "\n"
      ]
    },
    {
      "cell_type": "code",
      "execution_count": null,
      "metadata": {
        "colab": {
          "base_uri": "https://localhost:8080/"
        },
        "id": "sM4Qv_fpQvwj",
        "outputId": "011088e3-0040-473b-c695-3e2b8adda1ed"
      },
      "outputs": [
        {
          "data": {
            "text/plain": [
              "array([[4, 5, 6],\n",
              "       [5, 6, 7],\n",
              "       [6, 7, 8]])"
            ]
          },
          "execution_count": 53,
          "metadata": {},
          "output_type": "execute_result"
        }
      ],
      "source": [
        "## Consider two arrays arr1 of shape (3, 1) and arr2 of shape (1, 3). Add these arrays using NumPy\n",
        "## broadcasting.\n",
        "\n",
        "\n",
        "arr1 = np.array([[3],\n",
        "                [4],\n",
        "                [5]])\n",
        "arr2 = np.array([1,2,3])\n",
        "arr1+arr2"
      ]
    },
    {
      "cell_type": "code",
      "execution_count": null,
      "metadata": {
        "colab": {
          "base_uri": "https://localhost:8080/"
        },
        "id": "sT4YYxpYSy5U",
        "outputId": "df873d91-35ab-4bab-b67b-f2ec05347423"
      },
      "outputs": [
        {
          "data": {
            "text/plain": [
              "array([[[ 4,  6,  8],\n",
              "        [ 8, 12, 16]],\n",
              "\n",
              "       [[30, 35, 20],\n",
              "        [36, 42, 24]]])"
            ]
          },
          "execution_count": 85,
          "metadata": {},
          "output_type": "execute_result"
        }
      ],
      "source": [
        "## Given arrays arr1 of shape (2, 3) and arr2 of shape (2, 2), perform multiplication using NumPy\n",
        " ## broadcasting. Handle the shape incompatibility.\n",
        "\n",
        "arr1 = np.array([[2,3,4],\n",
        "              [6,7,4]])\n",
        "arr2 = np.array([[2,4],\n",
        "                   [5,6]])\n",
        "\n",
        "arr1_reshape = arr1.reshape(2,1,3)\n",
        "arr2_reshape = arr2.reshape(2,2,1)\n",
        "\n",
        "arr1_reshape*arr2_reshape"
      ]
    },
    {
      "cell_type": "code",
      "execution_count": null,
      "metadata": {
        "colab": {
          "base_uri": "https://localhost:8080/"
        },
        "id": "I_nXt2-3VV5T",
        "outputId": "6657bbfc-f606-4487-815f-16d3865a2668"
      },
      "outputs": [
        {
          "data": {
            "text/plain": [
              "array([2.5, 3.5, 4.5])"
            ]
          },
          "execution_count": 6,
          "metadata": {},
          "output_type": "execute_result"
        }
      ],
      "source": [
        "## Calculate column wise mean for the given array:\n",
        "import numpy as np\n",
        "\n",
        "arr = np.array([[1, 2, 3],\n",
        "                [4, 5, 6]])\n",
        "\n",
        "\n",
        "arr.mean(axis = 0)"
      ]
    },
    {
      "cell_type": "code",
      "execution_count": null,
      "metadata": {
        "colab": {
          "base_uri": "https://localhost:8080/"
        },
        "id": "evr3E_DuQvn3",
        "outputId": "e267d968-5c87-41d3-92d6-f1207b4e25a8"
      },
      "outputs": [
        {
          "data": {
            "text/plain": [
              "array([3, 6])"
            ]
          },
          "execution_count": 7,
          "metadata": {},
          "output_type": "execute_result"
        }
      ],
      "source": [
        "## Find maximum value in each row of the given array:\n",
        "arr = np.array([[1, 2, 3], [4, 5, 6]])\n",
        "\n",
        "arr.max(axis = 1)"
      ]
    },
    {
      "cell_type": "code",
      "execution_count": null,
      "metadata": {
        "colab": {
          "base_uri": "https://localhost:8080/"
        },
        "id": "jLFdhucWQvkP",
        "outputId": "053403b3-a8d8-4383-e426-3d36c9b5de15"
      },
      "outputs": [
        {
          "data": {
            "text/plain": [
              "array([1, 1, 1])"
            ]
          },
          "execution_count": 9,
          "metadata": {},
          "output_type": "execute_result"
        }
      ],
      "source": [
        "## For the given array, find indices of maximum value in each column.\n",
        "arr = np.array([[1, 2, 3], [4, 5, 6]])\n",
        "np.argmax(arr,axis = 0)\n",
        "\n"
      ]
    },
    {
      "cell_type": "code",
      "execution_count": null,
      "metadata": {
        "colab": {
          "base_uri": "https://localhost:8080/"
        },
        "id": "QwCZXApkQvgk",
        "outputId": "afa2b3a4-bccc-4153-a88d-5ab051a07993"
      },
      "outputs": [
        {
          "data": {
            "text/plain": [
              "array([[ 1,  3,  6],\n",
              "       [ 4,  9, 15]])"
            ]
          },
          "execution_count": 10,
          "metadata": {},
          "output_type": "execute_result"
        }
      ],
      "source": [
        "## For the given array, apply custom function to calculate moving sum along rows.\n",
        "arr = np.array([[1, 2, 3], [4, 5, 6]])\n",
        "np.cumsum(arr, axis =1)"
      ]
    },
    {
      "cell_type": "code",
      "execution_count": null,
      "metadata": {
        "colab": {
          "base_uri": "https://localhost:8080/"
        },
        "id": "nX3ZesBDQvc6",
        "outputId": "294e90a3-6cfb-41e2-fca7-89d712e7cfc7"
      },
      "outputs": [
        {
          "data": {
            "text/plain": [
              "array([False, False, False])"
            ]
          },
          "execution_count": 13,
          "metadata": {},
          "output_type": "execute_result"
        }
      ],
      "source": [
        "##45. In the given array, check if all elements in each column are even.\n",
        "arr = np.array([[2, 4, 6], [3, 5, 7]])\n",
        "np.all(arr%2==0, axis = 0)"
      ]
    },
    {
      "cell_type": "code",
      "execution_count": null,
      "metadata": {
        "colab": {
          "base_uri": "https://localhost:8080/"
        },
        "id": "XPk_0qAtQvY9",
        "outputId": "734c9bd5-f627-4919-bf97-87b620d53fdb"
      },
      "outputs": [
        {
          "data": {
            "text/plain": [
              "matrix([[1, 2, 3],\n",
              "        [4, 5, 6]])"
            ]
          },
          "execution_count": 21,
          "metadata": {},
          "output_type": "execute_result"
        }
      ],
      "source": [
        "## Given a NumPy array arr, reshape it into a matrix of dimensions `m` rows and `n` columns. Return the\n",
        "## reshaped matrix.\n",
        "original_array = np.array([1, 2, 3, 4, 5, 6])\n",
        "arr = np.matrix(original_array).reshape(2,3)\n",
        "arr"
      ]
    },
    {
      "cell_type": "code",
      "execution_count": null,
      "metadata": {
        "colab": {
          "base_uri": "https://localhost:8080/"
        },
        "id": "B4eFu6-oQvVd",
        "outputId": "6e48d734-ffef-441d-f7c5-6926ea9e1c11"
      },
      "outputs": [
        {
          "data": {
            "text/plain": [
              "array([1, 2, 3, 4, 5, 6])"
            ]
          },
          "execution_count": 27,
          "metadata": {},
          "output_type": "execute_result"
        }
      ],
      "source": [
        "## Create a function that takes a matrix as input and returns the flattened array.\n",
        "input_matrix = np.array([[1, 2, 3], [4, 5, 6]])\n",
        "\n",
        "\n",
        "def flatten_matrix(matrix):                           ### input_matrix = np.array([[1, 2, 3], [4, 5, 6]])\n",
        "                                                        #  input_matrix.flatten()\n",
        "  return matrix.flatten()\n",
        "\n",
        "flatten_matrix = flatten_matrix(input_matrix)\n",
        "flatten_matrix\n"
      ]
    },
    {
      "cell_type": "code",
      "execution_count": null,
      "metadata": {
        "colab": {
          "base_uri": "https://localhost:8080/"
        },
        "id": "MIDr9PrM2i-3",
        "outputId": "d8df3ce9-efe5-4f3b-ccd1-b059cc039dff"
      },
      "outputs": [
        {
          "data": {
            "text/plain": [
              "array([[1, 2, 5, 6],\n",
              "       [3, 4, 7, 8]])"
            ]
          },
          "execution_count": 10,
          "metadata": {},
          "output_type": "execute_result"
        }
      ],
      "source": [
        "## Write a function that concatenates two given arrays along a specified axis.\n",
        "import numpy as np\n",
        "\n",
        "array1 = np.array([[1, 2], [3, 4]])\n",
        "array2 = np.array([[5, 6], [7, 8]])\n",
        "\n",
        "array2 = np.concatenate((array1,array2),axis =1)\n",
        "array2"
      ]
    },
    {
      "cell_type": "code",
      "execution_count": null,
      "metadata": {
        "colab": {
          "base_uri": "https://localhost:8080/"
        },
        "id": "gkPmBpgMQvSJ",
        "outputId": "5afbf70c-3960-4bf3-d566-f08735520116"
      },
      "outputs": [
        {
          "data": {
            "text/plain": [
              "[array([[1, 2, 3]]), array([[4, 5, 6]]), array([[7, 8, 9]])]"
            ]
          },
          "execution_count": 41,
          "metadata": {},
          "output_type": "execute_result"
        }
      ],
      "source": [
        "## Create a function that splits an array into multiple sub-arrays along a specified axis.\n",
        "\n",
        "array = np.array([[1, 2, 3], [4, 5, 6], [7, 8, 9]])\n",
        "def split_array():\n",
        "  return np.split(array,3,axis = 0)\n",
        "split_array()\n"
      ]
    },
    {
      "cell_type": "code",
      "execution_count": null,
      "metadata": {
        "colab": {
          "base_uri": "https://localhost:8080/"
        },
        "id": "lfzvZr6gQvOT",
        "outputId": "0bc1f201-8c80-491f-f5d1-2af36aa2c1e6"
      },
      "outputs": [
        {
          "data": {
            "text/plain": [
              "array([ 1, 10,  4, 11,  5])"
            ]
          },
          "execution_count": 43,
          "metadata": {},
          "output_type": "execute_result"
        }
      ],
      "source": [
        "## Write a function that inserts and then deletes elements from a given array at specified indices.\n",
        "\n",
        "original_array = np.array([1, 2, 3, 4, 5])\n",
        "indices_to_insert = [2, 4]\n",
        "values_to_insert = [10, 11]\n",
        "indices_to_delete = [1, 3]\n",
        "\n",
        "def delete_insert():\n",
        "  inserted_array = np.insert(original_array,indices_to_insert,values_to_insert)\n",
        "\n",
        "  deleted_array = np.delete(inserted_array,indices_to_delete)\n",
        "\n",
        "  return deleted_array\n",
        "\n",
        "delete_insert()\n",
        "\n",
        "\n"
      ]
    },
    {
      "cell_type": "code",
      "execution_count": null,
      "metadata": {
        "colab": {
          "base_uri": "https://localhost:8080/"
        },
        "id": "V2SxezAQQvKq",
        "outputId": "8c7fbe0f-370b-47ca-db08-525e6f9a9879"
      },
      "outputs": [
        {
          "data": {
            "text/plain": [
              "array([[ 9,  5,  8,  8,  9, 10, 10, 11, 13, 13]])"
            ]
          },
          "execution_count": 24,
          "metadata": {},
          "output_type": "execute_result"
        }
      ],
      "source": [
        "## Create a NumPy array `arr1` with random integers and another array `arr2` with integers from 1 to 10.\n",
        "## Perform element-wise addition between `arr1` and `arr2`.\n",
        "\n",
        "arr1 = np.random.randint(2,9,(1,10))\n",
        "arr1\n",
        "arr2 = np.array([1,2,3,4,5,6,7,8,9,10])\n",
        "\n",
        "arr1 + arr2"
      ]
    },
    {
      "cell_type": "code",
      "execution_count": null,
      "metadata": {
        "colab": {
          "base_uri": "https://localhost:8080/"
        },
        "id": "FvS0yXV6QvHT",
        "outputId": "5e2cf2f1-610c-4d06-886f-421052a156b2"
      },
      "outputs": [
        {
          "data": {
            "text/plain": [
              "array([ 9,  7,  5,  3,  1, -1, -3, -5, -7, -9])"
            ]
          },
          "execution_count": 26,
          "metadata": {},
          "output_type": "execute_result"
        }
      ],
      "source": [
        "## Generate a NumPy array `arr1` with sequential integers from 10 to 1 and another array `arr2` with integers\n",
        "## from 1 to 10. Subtract `arr2` from `arr1` element-wise.\n",
        "arr1 = np.array([10,9,8,7,6,5,4,3,2,1])\n",
        "arr2 = np.array([1,2,3,4,5,6,7,8,9,10])\n",
        "\n",
        "arr1 - arr2\n"
      ]
    },
    {
      "cell_type": "code",
      "execution_count": null,
      "metadata": {
        "colab": {
          "base_uri": "https://localhost:8080/"
        },
        "id": "8Z-UU4CGQvEO",
        "outputId": "1882d8c7-e2a2-4912-ec57-c9c3ace04a62"
      },
      "outputs": [
        {
          "data": {
            "text/plain": [
              "array([68])"
            ]
          },
          "execution_count": 30,
          "metadata": {},
          "output_type": "execute_result"
        }
      ],
      "source": [
        "##  Create a NumPy array `arr1` with random integers and another array `arr2` with integers from 1 to 5.\n",
        "## Perform element-wise multiplication between `arr1` and `arr2`\n",
        "\n",
        "arr1 = np.random.randint(2,9,(1,5))\n",
        "arr1\n",
        "arr2 = np.array([1,2,3,4,5])\n",
        "arr =  arr1@arr2\n",
        "arr\n",
        "\n"
      ]
    },
    {
      "cell_type": "code",
      "execution_count": null,
      "metadata": {
        "colab": {
          "base_uri": "https://localhost:8080/"
        },
        "id": "P83eKBKUQvAx",
        "outputId": "5981dd0b-b67b-472c-9eec-13f16f9bdcfe"
      },
      "outputs": [
        {
          "data": {
            "text/plain": [
              "array([2., 2., 2., 2., 2.])"
            ]
          },
          "execution_count": 33,
          "metadata": {},
          "output_type": "execute_result"
        }
      ],
      "source": [
        "## Generate a NumPy array `arr1` with even integers from 2 to 10 and another array `arr2` with integers from 1\n",
        "## to 5. Perform element-wise division of `arr1` by `arr\n",
        "\n",
        "arr1 =  np.array([2,4,6,8,10])\n",
        "arr2 = np.array([1,2,3,4,5])\n",
        "\n",
        "arr = arr1/arr2\n",
        "arr"
      ]
    },
    {
      "cell_type": "code",
      "execution_count": null,
      "metadata": {
        "id": "etrS9DKYQu9K"
      },
      "outputs": [],
      "source": [
        "## Create a NumPy array `arr1` with integers from 1 to 5 and another array `arr2` with the same numbers\n",
        "## reversed. Calculate the exponentiation of `arr1` raised to the power of `arr2` element-wise.\n",
        "\n",
        "arr1 =  np.array([1,2,3,4,5])\n",
        "\n",
        "arr2 = np.array([5,4,3,2,1])\n",
        "\n",
        "result = arr2**arr1\n"
      ]
    },
    {
      "cell_type": "code",
      "execution_count": null,
      "metadata": {
        "colab": {
          "base_uri": "https://localhost:8080/"
        },
        "id": "uzA73sf0Qu6S",
        "outputId": "09722172-bdab-408c-ccab-1014db3dd1cb"
      },
      "outputs": [
        {
          "name": "stdout",
          "output_type": "stream",
          "text": [
            "3\n"
          ]
        }
      ],
      "source": [
        "## Write a function that counts the occurrences of a specific substring within a NumPy array of strings.\n",
        "\n",
        "arr = np.array(['hello', 'world', 'hello', 'numpy', 'hello'])\n",
        "def count_occurrences(arr,substring ):\n",
        "  return np.char.count(arr, substring).sum()\n",
        "\n",
        "result = count_occurrences(arr,'hello')\n",
        "print(result)"
      ]
    },
    {
      "cell_type": "code",
      "execution_count": null,
      "metadata": {
        "colab": {
          "base_uri": "https://localhost:8080/"
        },
        "id": "ZCWnx-pwQu2q",
        "outputId": "b4fe3c3a-bf2e-4234-e9eb-566c0b4c4bfb"
      },
      "outputs": [
        {
          "name": "stdout",
          "output_type": "stream",
          "text": [
            "['H']\n",
            "['W']\n",
            "['O']\n",
            "['A']\n",
            "['I']\n",
            "['G']\n",
            "['P']\n",
            "['T']\n"
          ]
        }
      ],
      "source": [
        "## 57. Write a function that extracts uppercase characters from a NumPy array of strings.\n",
        "## arr = np.array(['Hello', 'World', 'OpenAI', 'GPT'])\n",
        "\n",
        "arr = np.array(['Hello', 'World', 'OpenAI', 'GPT'])\n",
        "\n",
        "for i in arr:\n",
        "  for char in i :\n",
        "    if char.isupper() :\n",
        "      print(list(char))\n",
        "\n"
      ]
    },
    {
      "cell_type": "code",
      "execution_count": null,
      "metadata": {
        "colab": {
          "base_uri": "https://localhost:8080/"
        },
        "id": "M8LENneSQuzX",
        "outputId": "405f1731-1178-4ccb-92bf-ee9af0a5ca8e"
      },
      "outputs": [
        {
          "data": {
            "text/plain": [
              "array(['mango', 'banana', 'grape', 'pinemango'], dtype='<U9')"
            ]
          },
          "execution_count": 62,
          "metadata": {},
          "output_type": "execute_result"
        }
      ],
      "source": [
        "## Write a function that replaces occurrences of a substring in a NumPy array of strings with a new string.\n",
        "\n",
        "arr = np.array(['apple', 'banana', 'grape', 'pineapple'])\n",
        "\n",
        "def replace_occ(arr, old_string ,new_string ):\n",
        "  return np.char.replace(arr,old_string ,new_string)\n",
        "\n",
        "replace_occ(arr, 'apple', 'mango')\n",
        "\n",
        "\n",
        "\n"
      ]
    },
    {
      "cell_type": "code",
      "execution_count": null,
      "metadata": {
        "colab": {
          "base_uri": "https://localhost:8080/"
        },
        "id": "ILUAP5spQuw4",
        "outputId": "34545c87-f47b-49f1-a04e-25a3cb4c77d0"
      },
      "outputs": [
        {
          "data": {
            "text/plain": [
              "array(['HelloOpen', 'WorldAI'], dtype='<U9')"
            ]
          },
          "execution_count": 63,
          "metadata": {},
          "output_type": "execute_result"
        }
      ],
      "source": [
        "## 59. Write a function that concatenates strings in a NumPy array element-wise.\n",
        "\n",
        "arr1 = np.array(['Hello', 'World'])\n",
        "arr2 = np.array(['Open', 'AI'])\n",
        "\n",
        "arr1 + arr2"
      ]
    },
    {
      "cell_type": "code",
      "execution_count": null,
      "metadata": {
        "colab": {
          "base_uri": "https://localhost:8080/"
        },
        "id": "iY_hgpWQQusq",
        "outputId": "bbf9d0fc-07cd-43dd-bde0-cb690873e4ea"
      },
      "outputs": [
        {
          "name": "stdout",
          "output_type": "stream",
          "text": [
            "9\n"
          ]
        }
      ],
      "source": [
        "## 60. Write a function that finds the length of the longest string in a NumPy array.\n",
        "\n",
        "arr = np.array(['apple', 'banana', 'grape', 'pineapple'])\n",
        "def longest():\n",
        "  max_lenth = 0\n",
        "\n",
        "  for i in arr :\n",
        "    len(i) > max_lenth\n",
        "    max_lenth = len(i)\n",
        "\n",
        "  return max_lenth\n",
        "print(longest())\n",
        "\n"
      ]
    },
    {
      "cell_type": "code",
      "execution_count": null,
      "metadata": {
        "colab": {
          "base_uri": "https://localhost:8080/"
        },
        "id": "FPlRgMrVQupY",
        "outputId": "93ffa0d5-8de6-4180-88a2-ac6a362a3cba"
      },
      "outputs": [
        {
          "name": "stdout",
          "output_type": "stream",
          "text": [
            "mean_value:/n  485.87\n",
            "median_value:/n  463.0\n",
            "var_value:/n  71509.7931\n",
            "std:/n  267.41315057416307\n"
          ]
        }
      ],
      "source": [
        "## 61. Create a dataset of 100 random integers between 1 and 1000. Compute the mean, median, variance, and\n",
        "## standard deviation of the dataset using NumPy's functions.\n",
        "import numpy as np\n",
        "dataset = np.random.randint(1,1000,100)\n",
        "dataset\n",
        "mean_d = dataset.mean()\n",
        "median_d = np.median(dataset)\n",
        "variance_d = dataset.var()\n",
        "standard_d = dataset.std()\n",
        "print(\"mean_value:/n \",mean_d)\n",
        "\n",
        "print(\"median_value:/n \", median_d)\n",
        "\n",
        "print(\"var_value:/n \",variance_d)\n",
        "\n",
        "print(\"std:/n \",standard_d)"
      ]
    },
    {
      "cell_type": "code",
      "execution_count": null,
      "metadata": {
        "colab": {
          "base_uri": "https://localhost:8080/"
        },
        "id": "ZDW8XHSiQul3",
        "outputId": "169fd18a-551f-4204-9cb7-af007ed47e3b"
      },
      "outputs": [
        {
          "name": "stdout",
          "output_type": "stream",
          "text": [
            "pr25: 20.75 pr75: 71.0\n"
          ]
        }
      ],
      "source": [
        "##Generate an array of 50 random numbers between 1 and 100. Find the 25th and 75th percentiles of the dataset.\n",
        "\n",
        "arr = np.random.randint(1,101,50)\n",
        "arr25 = np.percentile(arr,25)\n",
        "arr75 = np.percentile(arr,75)\n",
        "print('pr25:',arr25,'pr75:',arr75)"
      ]
    },
    {
      "cell_type": "code",
      "execution_count": null,
      "metadata": {
        "colab": {
          "base_uri": "https://localhost:8080/"
        },
        "id": "NUAb47BHQuiu",
        "outputId": "1ce6b79d-cea0-42ac-8f7d-27b647330427"
      },
      "outputs": [
        {
          "data": {
            "text/plain": [
              "array([[ 1.        , -0.06728035],\n",
              "       [-0.06728035,  1.        ]])"
            ]
          },
          "execution_count": 118,
          "metadata": {},
          "output_type": "execute_result"
        }
      ],
      "source": [
        "## Create two arrays representing two sets of variables. Compute the correlation coefficient between these\n",
        "## arrays using NumPy's `corrcoef` function.\n",
        "\n",
        "import numpy as np\n",
        "\n",
        "\n",
        "x = np.random.randint(1, 100, 50)\n",
        "y = np.random.randint(1, 100, 50)\n",
        "\n",
        "corr_matrix = np.corrcoef(x, y)\n",
        "\n",
        "corr_matrix"
      ]
    },
    {
      "cell_type": "code",
      "execution_count": null,
      "metadata": {
        "colab": {
          "base_uri": "https://localhost:8080/"
        },
        "id": "CyE6Qe5OQufN",
        "outputId": "27d59b4e-3def-4287-a437-128534cef376"
      },
      "outputs": [
        {
          "data": {
            "text/plain": [
              "matrix([[ 21,  23,  25,  40],\n",
              "        [ 89,  97, 105, 170],\n",
              "        [ 54,  59,  64, 103]])"
            ]
          },
          "execution_count": 134,
          "metadata": {},
          "output_type": "execute_result"
        }
      ],
      "source": [
        "## Create two matrices and perform matrix multiplication using NumPy's `dot` function.\n",
        "\n",
        "mat1 = np.matrix([[1,2,3],[9,8,7],[4,5,6]])\n",
        "mat2 = np.matrix([[3,4,5,8],[6,5,4,7],[2,3,4,6]])\n",
        "mat_multification = mat1.dot(mat2)\n",
        "mat_multification\n"
      ]
    },
    {
      "cell_type": "code",
      "execution_count": null,
      "metadata": {
        "colab": {
          "base_uri": "https://localhost:8080/"
        },
        "id": "Lne4wc4ZQub4",
        "outputId": "8952b7bd-1d75-4f6b-c7eb-3541a0216b87"
      },
      "outputs": [
        {
          "name": "stdout",
          "output_type": "stream",
          "text": [
            "el_percentile_10th : 130.0\n",
            "el_percentile_50th : 467.0\n",
            "el_percentile_90th : 843.0\n"
          ]
        }
      ],
      "source": [
        "## 65. Create an array of 50 integers between 10 and 1000. Calculate the 10th, 50th (median), and 90th\n",
        "## percentiles along with the first and third quartiles.\n",
        "arr = np.random.randint(10,1001,51)\n",
        "\n",
        "el_percentile_10th = np.percentile(arr,10)\n",
        "\n",
        "el_percentile_50th = np.percentile(arr,50)\n",
        "\n",
        "el_percentile_90th = np.percentile(arr,90)\n",
        "print('el_percentile_10th :',el_percentile_10th )\n",
        "print('el_percentile_50th :',el_percentile_50th )\n",
        "print('el_percentile_90th :',el_percentile_90th)"
      ]
    },
    {
      "cell_type": "code",
      "execution_count": null,
      "metadata": {
        "colab": {
          "base_uri": "https://localhost:8080/"
        },
        "id": "whV5231bQuYW",
        "outputId": "3390e2fb-11d4-414b-9fc3-a61051c2d082"
      },
      "outputs": [
        {
          "output_type": "stream",
          "name": "stdout",
          "text": [
            "[4]\n"
          ]
        }
      ],
      "source": [
        "## Create a NumPy array of integers and find the index of a specific element.\n",
        "arr = np.arange(15)\n",
        "index = np.where(arr == 4)[0]\n",
        "print(index )\n"
      ]
    },
    {
      "cell_type": "code",
      "execution_count": null,
      "metadata": {
        "id": "I7wpwQzXQuVj",
        "colab": {
          "base_uri": "https://localhost:8080/"
        },
        "outputId": "097224f9-5c8a-4b8e-cc90-e90db6fa1d9c"
      },
      "outputs": [
        {
          "output_type": "execute_result",
          "data": {
            "text/plain": [
              "array([ 8, 24, 26, 27, 36, 38, 49, 58, 59, 59, 70, 71, 74, 80, 91])"
            ]
          },
          "metadata": {},
          "execution_count": 166
        }
      ],
      "source": [
        "##Generate a random NumPy array and sort it in ascending order.\n",
        "arr = np.random.randint(5,100,15)\n",
        "arr1 = np.sort(arr)\n",
        "arr1\n"
      ]
    },
    {
      "cell_type": "code",
      "execution_count": null,
      "metadata": {
        "id": "JMfgd0beQuSA",
        "colab": {
          "base_uri": "https://localhost:8080/"
        },
        "outputId": "55be166e-2eda-47fa-d680-e156b036a05c"
      },
      "outputs": [
        {
          "output_type": "execute_result",
          "data": {
            "text/plain": [
              "array([25, 42, 30])"
            ]
          },
          "metadata": {},
          "execution_count": 168
        }
      ],
      "source": [
        "## Filter elements >20  in the given NumPy array.\n",
        "\n",
        "arr = np.array([12, 25, 6, 42, 8, 30])\n",
        "arr1 = arr[arr>20]\n",
        "arr1"
      ]
    },
    {
      "cell_type": "code",
      "execution_count": null,
      "metadata": {
        "id": "USqnvSAoQuOQ",
        "colab": {
          "base_uri": "https://localhost:8080/"
        },
        "outputId": "6efb78ed-8acc-4ce3-d43a-553ea5c32782"
      },
      "outputs": [
        {
          "output_type": "execute_result",
          "data": {
            "text/plain": [
              "array([12, 15])"
            ]
          },
          "metadata": {},
          "execution_count": 170
        }
      ],
      "source": [
        "## Filter elements which are divisible by 3 from a given NumPy array.\n",
        "\n",
        "arr = np.array([1, 5, 8, 12, 15])\n",
        "arr1 = arr[arr%3 == 0]\n",
        "arr1"
      ]
    },
    {
      "cell_type": "code",
      "execution_count": null,
      "metadata": {
        "id": "-mnUbpKvQuKr",
        "colab": {
          "base_uri": "https://localhost:8080/"
        },
        "outputId": "26bc0e8f-b76e-4c5e-a532-a7b6dbfbdd30"
      },
      "outputs": [
        {
          "output_type": "execute_result",
          "data": {
            "text/plain": [
              "array([20, 30, 40])"
            ]
          },
          "metadata": {},
          "execution_count": 2
        }
      ],
      "source": [
        "## 70 Filter elements which are ≥ 20 and ≤ 40 from a given NumPy array.\n",
        "import numpy as np\n",
        "arr = np.array([10, 20, 30, 40, 50])\n",
        "\n",
        "arr1 = arr[(arr >= 20) & (arr<=40) ]\n",
        "arr1\n"
      ]
    },
    {
      "cell_type": "code",
      "execution_count": null,
      "metadata": {
        "id": "VPllh_F_QuG7",
        "colab": {
          "base_uri": "https://localhost:8080/"
        },
        "outputId": "a3975d0e-98be-4a66-e75a-8a103d02491f"
      },
      "outputs": [
        {
          "output_type": "stream",
          "name": "stdout",
          "text": [
            "=\n"
          ]
        }
      ],
      "source": [
        "## For the given NumPy array, check its byte order using the `dtype` attribute byteorder.\n",
        "\n",
        "arr = np.array([1, 2, 3])\n",
        "print(arr.dtype.byteorder)\n",
        "\n"
      ]
    },
    {
      "cell_type": "code",
      "execution_count": null,
      "metadata": {
        "id": "SJKQp3EoQuEH",
        "colab": {
          "base_uri": "https://localhost:8080/"
        },
        "outputId": "2e9afbf8-c562-4c17-ca9f-c0e629c2a169"
      },
      "outputs": [
        {
          "output_type": "execute_result",
          "data": {
            "text/plain": [
              "array([16777216, 33554432, 50331648], dtype=int32)"
            ]
          },
          "metadata": {},
          "execution_count": 4
        }
      ],
      "source": [
        "## 72. For the given NumPy array, perform byte swapping in place using `byteswap()`.\n",
        "arr = np.array([1, 2, 3], dtype=np.int32)\n",
        "\n",
        "arr.byteswap()\n"
      ]
    },
    {
      "cell_type": "code",
      "execution_count": null,
      "metadata": {
        "id": "zZJUMwJfQt__",
        "colab": {
          "base_uri": "https://localhost:8080/"
        },
        "outputId": "b0890989-e008-4095-bba1-f6661fc81410"
      },
      "outputs": [
        {
          "output_type": "stream",
          "name": "stdout",
          "text": [
            "old byteorder : =\n",
            "new byteorder : >i4\n"
          ]
        }
      ],
      "source": [
        "##73. For the given NumPy array, swap its byte order without modifying the original array using\n",
        "##    `newbyteorder()`.\n",
        "\n",
        "arr = np.array([1, 2, 3], dtype=np.int32)\n",
        "old_byte = arr.dtype.byteorder\n",
        "\n",
        "print('old byteorder :',old_byte)\n",
        "\n",
        "print('new byteorder :',arr.dtype.newbyteorder())"
      ]
    },
    {
      "cell_type": "code",
      "execution_count": null,
      "metadata": {
        "id": "zJ30Wd44Qt8i",
        "colab": {
          "base_uri": "https://localhost:8080/"
        },
        "outputId": "366ca9c0-692c-4f9b-d56a-6c052b2b23e0"
      },
      "outputs": [
        {
          "output_type": "stream",
          "name": "stdout",
          "text": [
            "old_byteorder: =\n",
            "new_byteorder : >i4\n"
          ]
        }
      ],
      "source": [
        "## For the given NumPy array and swap its byte order conditionally based on system endianness using\n",
        "## `newbyteorder()`.\n",
        "\n",
        "arr = np.array([1, 2, 3], dtype=np.int32)\n",
        "\n",
        "old_byteorder = arr.dtype.byteorder\n",
        "print('old_byteorder:',old_byteorder)\n",
        "\n",
        "if old_byteorder == '=':\n",
        "  swapped_arr = arr.dtype.newbyteorder()\n",
        "  print('new_byteorder :', swapped_arr )\n"
      ]
    },
    {
      "cell_type": "code",
      "execution_count": null,
      "metadata": {
        "id": "A8tdKmXpQt5W",
        "colab": {
          "base_uri": "https://localhost:8080/"
        },
        "outputId": "96e88cce-4d3e-4a21-e816-21ecd9e7c7e8"
      },
      "outputs": [
        {
          "output_type": "stream",
          "name": "stdout",
          "text": [
            "no need of byte swaping \n"
          ]
        }
      ],
      "source": [
        "##75. For the given NumPy array, check if byte swapping is necessary for the current system using `dtype`\n",
        "## attribute `byteorder`.\n",
        "arr = np.array([1, 2, 3], dtype=np.int32)\n",
        "byte_order = arr.dtype.byteorder\n",
        "if byte_order == '=':\n",
        "  print('no need of byte swaping ')\n",
        "else :\n",
        "  print('byte swaping is necessary ')"
      ]
    },
    {
      "cell_type": "code",
      "execution_count": null,
      "metadata": {
        "id": "MjodwBOPQt1g",
        "colab": {
          "base_uri": "https://localhost:8080/"
        },
        "outputId": "d1cf8787-fa53-40cd-e6fd-be4037a151b4"
      },
      "outputs": [
        {
          "output_type": "stream",
          "name": "stdout",
          "text": [
            "copy_arr1 does not effect arr1 \n"
          ]
        }
      ],
      "source": [
        "## Create a NumPy array `arr1` with values from 1 to 10. Create a copy of `arr1` named `copy_arr` and modify\n",
        "## an element in `copy_arr`. Check if modifying `copy_arr` affects `arr1`.\n",
        "\n",
        "arr1 = np.array([1,2,3,4,5,6,7,8,9,10])\n",
        "\n",
        "copy_arr1  = np.array([1,2,3,4,5,6,7,8,9,10])\n",
        "copy_arr1[4] = 4\n",
        "\n",
        "if np.array_equal(arr1,copy_arr1) :\n",
        "  print('copy_arr1 effectes arr1 ')\n",
        "\n",
        "else:\n",
        "  print('copy_arr1 does not effect arr1 ')\n",
        "\n"
      ]
    },
    {
      "cell_type": "code",
      "execution_count": null,
      "metadata": {
        "id": "z2h9JnSoQtyY",
        "colab": {
          "base_uri": "https://localhost:8080/",
          "height": 211
        },
        "outputId": "a55af404-827c-4078-a309-cbc182f6dc8c"
      },
      "outputs": [
        {
          "output_type": "error",
          "ename": "IndexError",
          "evalue": "index 2 is out of bounds for axis 0 with size 2",
          "traceback": [
            "\u001b[0;31m---------------------------------------------------------------------------\u001b[0m",
            "\u001b[0;31mIndexError\u001b[0m                                Traceback (most recent call last)",
            "\u001b[0;32m/tmp/ipython-input-3592564902.py\u001b[0m in \u001b[0;36m<cell line: 0>\u001b[0;34m()\u001b[0m\n\u001b[1;32m      4\u001b[0m \u001b[0marr\u001b[0m \u001b[0;34m=\u001b[0m \u001b[0mnp\u001b[0m\u001b[0;34m.\u001b[0m\u001b[0mrandom\u001b[0m\u001b[0;34m.\u001b[0m\u001b[0mrandint\u001b[0m\u001b[0;34m(\u001b[0m\u001b[0;36m2\u001b[0m\u001b[0;34m,\u001b[0m\u001b[0;36m9\u001b[0m\u001b[0;34m,\u001b[0m\u001b[0;34m(\u001b[0m\u001b[0;36m3\u001b[0m\u001b[0;34m,\u001b[0m\u001b[0;36m3\u001b[0m\u001b[0;34m)\u001b[0m\u001b[0;34m)\u001b[0m\u001b[0;34m\u001b[0m\u001b[0;34m\u001b[0m\u001b[0m\n\u001b[1;32m      5\u001b[0m \u001b[0mview_slice\u001b[0m \u001b[0;34m=\u001b[0m \u001b[0marr\u001b[0m\u001b[0;34m[\u001b[0m\u001b[0;36m0\u001b[0m\u001b[0;34m:\u001b[0m\u001b[0;36m2\u001b[0m\u001b[0;34m,\u001b[0m\u001b[0;36m0\u001b[0m\u001b[0;34m:\u001b[0m\u001b[0;36m3\u001b[0m\u001b[0;34m]\u001b[0m\u001b[0;34m\u001b[0m\u001b[0;34m\u001b[0m\u001b[0m\n\u001b[0;32m----> 6\u001b[0;31m \u001b[0mview_slice\u001b[0m\u001b[0;34m[\u001b[0m\u001b[0;36m2\u001b[0m\u001b[0;34m]\u001b[0m \u001b[0;34m=\u001b[0m \u001b[0;36m8\u001b[0m\u001b[0;34m\u001b[0m\u001b[0;34m\u001b[0m\u001b[0m\n\u001b[0m\u001b[1;32m      7\u001b[0m \u001b[0;34m\u001b[0m\u001b[0m\n\u001b[1;32m      8\u001b[0m \u001b[0;34m\u001b[0m\u001b[0m\n",
            "\u001b[0;31mIndexError\u001b[0m: index 2 is out of bounds for axis 0 with size 2"
          ]
        }
      ],
      "source": [
        "##77. Create a 2D NumPy array `matrix` of shape (3, 3) with random integers. Extract a slice `view_slice` from\n",
        "## the matrix. Modify an element in `view_slice` and observe if it changes the original `matrix`\n",
        "\n",
        "arr = np.random.randint(2,9,(3,3))\n",
        "view_slice = arr[0:2,0:3]\n",
        "view_slice[2] = 8\n",
        "\n",
        "\n",
        "\n"
      ]
    },
    {
      "cell_type": "code",
      "execution_count": null,
      "metadata": {
        "id": "COIy5VjEQtvT"
      },
      "outputs": [],
      "source": []
    },
    {
      "cell_type": "code",
      "execution_count": null,
      "metadata": {
        "id": "zKGezrlpQtrn"
      },
      "outputs": [],
      "source": []
    },
    {
      "cell_type": "code",
      "execution_count": null,
      "metadata": {
        "id": "pzMAHleoQtoJ"
      },
      "outputs": [],
      "source": []
    },
    {
      "cell_type": "code",
      "execution_count": null,
      "metadata": {
        "id": "saQYDLuPQtlA"
      },
      "outputs": [],
      "source": []
    },
    {
      "cell_type": "code",
      "execution_count": null,
      "metadata": {
        "id": "9vOH4h4ZQthW"
      },
      "outputs": [],
      "source": []
    },
    {
      "cell_type": "code",
      "execution_count": null,
      "metadata": {
        "id": "-BU927erQtd5"
      },
      "outputs": [],
      "source": []
    },
    {
      "cell_type": "code",
      "execution_count": null,
      "metadata": {
        "id": "43fIvS06QtaP"
      },
      "outputs": [],
      "source": []
    },
    {
      "cell_type": "code",
      "execution_count": null,
      "metadata": {
        "id": "bXnY8jEFQtWi"
      },
      "outputs": [],
      "source": []
    },
    {
      "cell_type": "code",
      "execution_count": null,
      "metadata": {
        "id": "1xnlQtC4QtTK"
      },
      "outputs": [],
      "source": []
    },
    {
      "cell_type": "code",
      "execution_count": null,
      "metadata": {
        "id": "rTQDtg9GQtPx"
      },
      "outputs": [],
      "source": []
    },
    {
      "cell_type": "code",
      "execution_count": null,
      "metadata": {
        "id": "aW1N4HBkQtL2"
      },
      "outputs": [],
      "source": []
    },
    {
      "cell_type": "code",
      "execution_count": null,
      "metadata": {
        "id": "280q8r-FQtId"
      },
      "outputs": [],
      "source": []
    },
    {
      "cell_type": "code",
      "execution_count": null,
      "metadata": {
        "id": "eyBUs06qQtFY"
      },
      "outputs": [],
      "source": []
    },
    {
      "cell_type": "code",
      "execution_count": null,
      "metadata": {
        "id": "4QuBhtNYQtCE"
      },
      "outputs": [],
      "source": []
    },
    {
      "cell_type": "code",
      "execution_count": null,
      "metadata": {
        "id": "XkFsUnm-Qs-n"
      },
      "outputs": [],
      "source": []
    },
    {
      "cell_type": "code",
      "execution_count": null,
      "metadata": {
        "id": "dpCpo_o3Qs7E"
      },
      "outputs": [],
      "source": []
    },
    {
      "cell_type": "code",
      "execution_count": null,
      "metadata": {
        "id": "t2LxG4qnQs3r"
      },
      "outputs": [],
      "source": []
    },
    {
      "cell_type": "code",
      "execution_count": null,
      "metadata": {
        "id": "IgOf3hIJQs1T"
      },
      "outputs": [],
      "source": []
    },
    {
      "cell_type": "code",
      "execution_count": null,
      "metadata": {
        "id": "M7A4UbEuQsyO"
      },
      "outputs": [],
      "source": []
    }
  ],
  "metadata": {
    "colab": {
      "provenance": [],
      "authorship_tag": "ABX9TyN1Je8gT6XmIlyoYplb46TN",
      "include_colab_link": true
    },
    "kernelspec": {
      "display_name": "Python 3",
      "name": "python3"
    },
    "language_info": {
      "name": "python"
    }
  },
  "nbformat": 4,
  "nbformat_minor": 0
}